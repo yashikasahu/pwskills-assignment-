{
 "cells": [
  {
   "cell_type": "code",
   "execution_count": 85,
   "id": "507be541-f735-4699-a5c7-754e127a5bb2",
   "metadata": {},
   "outputs": [],
   "source": [
    "#  Q1. Create one variable containing following type of data:"
   ]
  },
  {
   "cell_type": "code",
   "execution_count": 2,
   "id": "df679d11-a906-4e48-a767-8c7c4d772a20",
   "metadata": {},
   "outputs": [],
   "source": [
    "a = \"name\""
   ]
  },
  {
   "cell_type": "code",
   "execution_count": 3,
   "id": "657c9e56-adf6-4103-b975-869aa25a0125",
   "metadata": {},
   "outputs": [
    {
     "data": {
      "text/plain": [
       "str"
      ]
     },
     "execution_count": 3,
     "metadata": {},
     "output_type": "execute_result"
    }
   ],
   "source": [
    "type(a)"
   ]
  },
  {
   "cell_type": "code",
   "execution_count": 4,
   "id": "44dc70bc-6a41-492c-b74e-d2591b259fce",
   "metadata": {},
   "outputs": [],
   "source": [
    "b = [ 1, 2, 3, 4, \"rohul\" , \"rohan\" , 63.21]"
   ]
  },
  {
   "cell_type": "code",
   "execution_count": 5,
   "id": "1c0da0fd-9fe1-4412-a22f-ea75855e7cc0",
   "metadata": {},
   "outputs": [
    {
     "data": {
      "text/plain": [
       "list"
      ]
     },
     "execution_count": 5,
     "metadata": {},
     "output_type": "execute_result"
    }
   ],
   "source": [
    "type(b)"
   ]
  },
  {
   "cell_type": "code",
   "execution_count": 6,
   "id": "8b505774-427d-470f-8ce3-753066688b39",
   "metadata": {},
   "outputs": [],
   "source": [
    "c =45.85"
   ]
  },
  {
   "cell_type": "code",
   "execution_count": 7,
   "id": "209302b5-aec1-48e1-aa4c-e6d402ca26a8",
   "metadata": {},
   "outputs": [
    {
     "data": {
      "text/plain": [
       "float"
      ]
     },
     "execution_count": 7,
     "metadata": {},
     "output_type": "execute_result"
    }
   ],
   "source": [
    "type(c)"
   ]
  },
  {
   "cell_type": "code",
   "execution_count": 8,
   "id": "ded6ecb0-792b-4611-99e6-22f35f4b981e",
   "metadata": {},
   "outputs": [],
   "source": [
    "d = (\"lucy\" , 82, 65, 72 , \"pw skills\" , True , 56.3)"
   ]
  },
  {
   "cell_type": "code",
   "execution_count": 9,
   "id": "dadac708-7437-4ae0-9ea0-d118df8a70ce",
   "metadata": {},
   "outputs": [
    {
     "data": {
      "text/plain": [
       "tuple"
      ]
     },
     "execution_count": 9,
     "metadata": {},
     "output_type": "execute_result"
    }
   ],
   "source": [
    "type(d)"
   ]
  },
  {
   "cell_type": "code",
   "execution_count": 10,
   "id": "6490d7e0-e9fb-4efb-8e87-1b4a4fc57142",
   "metadata": {},
   "outputs": [],
   "source": [
    "#  Q2. Given are some following variables containing data:"
   ]
  },
  {
   "cell_type": "code",
   "execution_count": 11,
   "id": "a045ee03-4f3f-4ad3-bcf6-ac9802d78dbe",
   "metadata": {},
   "outputs": [],
   "source": [
    "var1 = ''"
   ]
  },
  {
   "cell_type": "code",
   "execution_count": 12,
   "id": "3383773e-f089-4731-bdfa-1a4ccf4e8f60",
   "metadata": {},
   "outputs": [
    {
     "data": {
      "text/plain": [
       "str"
      ]
     },
     "execution_count": 12,
     "metadata": {},
     "output_type": "execute_result"
    }
   ],
   "source": [
    "type(var1)"
   ]
  },
  {
   "cell_type": "code",
   "execution_count": 13,
   "id": "d68a1ecb-04a1-40a6-bf80-329b77f59d85",
   "metadata": {},
   "outputs": [],
   "source": [
    "var2 = '[ DS , ML , Python]'"
   ]
  },
  {
   "cell_type": "code",
   "execution_count": 14,
   "id": "a4239a0b-624c-4c7f-b720-5df325a62657",
   "metadata": {},
   "outputs": [
    {
     "data": {
      "text/plain": [
       "str"
      ]
     },
     "execution_count": 14,
     "metadata": {},
     "output_type": "execute_result"
    }
   ],
   "source": [
    "type(var2)"
   ]
  },
  {
   "cell_type": "code",
   "execution_count": 15,
   "id": "74d563cc-d37d-4ec7-a316-51288db511b9",
   "metadata": {},
   "outputs": [],
   "source": [
    "var3 = [ 'DS' , 'ML' , 'Python' ]"
   ]
  },
  {
   "cell_type": "code",
   "execution_count": 16,
   "id": "506a3e8f-9a96-480b-a850-f80f5925400d",
   "metadata": {},
   "outputs": [
    {
     "data": {
      "text/plain": [
       "list"
      ]
     },
     "execution_count": 16,
     "metadata": {},
     "output_type": "execute_result"
    }
   ],
   "source": [
    "type(var3)"
   ]
  },
  {
   "cell_type": "code",
   "execution_count": 17,
   "id": "97a9d3b2-bf19-4523-8f8a-4c71ea061997",
   "metadata": {},
   "outputs": [],
   "source": [
    "var4 = 1."
   ]
  },
  {
   "cell_type": "code",
   "execution_count": 18,
   "id": "a4d103c2-ea1a-4c6a-b9c2-34ac2d35af48",
   "metadata": {},
   "outputs": [
    {
     "data": {
      "text/plain": [
       "float"
      ]
     },
     "execution_count": 18,
     "metadata": {},
     "output_type": "execute_result"
    }
   ],
   "source": [
    "type(var4)"
   ]
  },
  {
   "cell_type": "code",
   "execution_count": 19,
   "id": "4c935f4d-f602-4aef-ac52-e618e53b4c70",
   "metadata": {},
   "outputs": [],
   "source": [
    "#  Q3. Explain the use of the following operators using an example:"
   ]
  },
  {
   "cell_type": "code",
   "execution_count": 20,
   "id": "c2626b98-fdcf-4f96-85d9-b7ddce97d219",
   "metadata": {},
   "outputs": [
    {
     "data": {
      "text/plain": [
       "3.0"
      ]
     },
     "execution_count": 20,
     "metadata": {},
     "output_type": "execute_result"
    }
   ],
   "source": [
    "'''quotient'''\n",
    "6/2\n"
   ]
  },
  {
   "cell_type": "code",
   "execution_count": 21,
   "id": "dd708687-5f0e-402c-bc3d-0301745fbcf6",
   "metadata": {},
   "outputs": [
    {
     "data": {
      "text/plain": [
       "0"
      ]
     },
     "execution_count": 21,
     "metadata": {},
     "output_type": "execute_result"
    }
   ],
   "source": [
    "'''reminder'''\n",
    "63%3"
   ]
  },
  {
   "cell_type": "code",
   "execution_count": 22,
   "id": "b3d8743d-a6c3-4377-90e3-0b2b1e522d31",
   "metadata": {},
   "outputs": [
    {
     "data": {
      "text/plain": [
       "3"
      ]
     },
     "execution_count": 22,
     "metadata": {},
     "output_type": "execute_result"
    }
   ],
   "source": [
    "9//3"
   ]
  },
  {
   "cell_type": "code",
   "execution_count": 23,
   "id": "285ff37b-60d5-4641-8d64-96a1b32dd724",
   "metadata": {},
   "outputs": [
    {
     "data": {
      "text/plain": [
       "36"
      ]
     },
     "execution_count": 23,
     "metadata": {},
     "output_type": "execute_result"
    }
   ],
   "source": [
    "'''power'''\n",
    "6**2"
   ]
  },
  {
   "cell_type": "code",
   "execution_count": 24,
   "id": "c7bf0cca-c89f-4927-a048-3082986d0345",
   "metadata": {},
   "outputs": [],
   "source": [
    "#  Q4. Create a list of length 10 of your choice containing multiple types of data. Using for loop print the element and its data type."
   ]
  },
  {
   "cell_type": "code",
   "execution_count": 25,
   "id": "b3629625-fa39-493c-b684-752afe9495fd",
   "metadata": {},
   "outputs": [],
   "source": [
    "e = [ 1, 2, 3, \"list\", \"tuple\", \"dict\", True, 17.4 , 65+32, 76]\n"
   ]
  },
  {
   "cell_type": "code",
   "execution_count": 26,
   "id": "ef46745f-633d-4e42-974c-116047789459",
   "metadata": {},
   "outputs": [
    {
     "name": "stdout",
     "output_type": "stream",
     "text": [
      "1 <class 'int'>\n",
      "2 <class 'int'>\n",
      "3 <class 'int'>\n",
      "list <class 'str'>\n",
      "tuple <class 'str'>\n",
      "dict <class 'str'>\n",
      "True <class 'bool'>\n",
      "17.4 <class 'float'>\n",
      "97 <class 'int'>\n",
      "76 <class 'int'>\n"
     ]
    }
   ],
   "source": [
    "for f in e :\n",
    "        print ( f   ,   type(f))"
   ]
  },
  {
   "cell_type": "code",
   "execution_count": 27,
   "id": "6f8401e6-7536-4dea-bf92-52a28490b67e",
   "metadata": {},
   "outputs": [],
   "source": [
    "#   Q5. Using a while loop, verify if the number A is purely divisible by number B and if so then how many times it can be divisible."
   ]
  },
  {
   "cell_type": "code",
   "execution_count": 94,
   "id": "e81db6b3-3919-4d9b-94fb-716a46e21792",
   "metadata": {},
   "outputs": [
    {
     "name": "stdout",
     "output_type": "stream",
     "text": [
      "a is purely divisible by b 25.0 in times .\n"
     ]
    }
   ],
   "source": [
    "a = 100\n",
    "b = 4\n",
    "count = a/b\n",
    "while a% b == 0:\n",
    "    a//=b\n",
    "if count > 0:\n",
    "    print(\"a is purely divisible by b\",(count),\"in times .\")"
   ]
  },
  {
   "cell_type": "code",
   "execution_count": 29,
   "id": "d2c44ad8-f017-404c-842e-4422a03139cb",
   "metadata": {},
   "outputs": [],
   "source": [
    "#   Q6. Create a list containing 25 int type data. Using for loop and if-else condition print if the element is divisible by 3 or not."
   ]
  },
  {
   "cell_type": "code",
   "execution_count": 30,
   "id": "5143b225-8cbd-4d51-935d-b149d2e11707",
   "metadata": {},
   "outputs": [],
   "source": [
    "g = [3, 6, 9, 12, 14, 45, 30, 66, 18, 21, 2, 6, 88, 30, 27, 14, 8, 4, 36, 20, 1, 25, 22 , 78, 56]"
   ]
  },
  {
   "cell_type": "code",
   "execution_count": 31,
   "id": "7436cd3b-225f-4e89-8664-cd34e4e9a795",
   "metadata": {},
   "outputs": [
    {
     "name": "stdout",
     "output_type": "stream",
     "text": [
      "3 Yes it is divisible by 3\n",
      "6 Yes it is divisible by 3\n",
      "9 Yes it is divisible by 3\n",
      "12 Yes it is divisible by 3\n",
      "14 No it is divisible by 3\n",
      "45 Yes it is divisible by 3\n",
      "30 Yes it is divisible by 3\n",
      "66 Yes it is divisible by 3\n",
      "18 Yes it is divisible by 3\n",
      "21 Yes it is divisible by 3\n",
      "2 No it is divisible by 3\n",
      "6 Yes it is divisible by 3\n",
      "88 No it is divisible by 3\n",
      "30 Yes it is divisible by 3\n",
      "27 Yes it is divisible by 3\n",
      "14 No it is divisible by 3\n",
      "8 No it is divisible by 3\n",
      "4 No it is divisible by 3\n",
      "36 Yes it is divisible by 3\n",
      "20 No it is divisible by 3\n",
      "1 No it is divisible by 3\n",
      "25 No it is divisible by 3\n",
      "22 No it is divisible by 3\n",
      "78 Yes it is divisible by 3\n",
      "56 No it is divisible by 3\n"
     ]
    }
   ],
   "source": [
    "for h in g :\n",
    "    if h%3==0:\n",
    "        print(h ,\"Yes it is divisible by 3\")\n",
    "    else:\n",
    "        print(h ,\"No it is divisible by 3\")"
   ]
  },
  {
   "cell_type": "code",
   "execution_count": 76,
   "id": "516674c2-0f0a-451b-ae61-b73bbcdc3c51",
   "metadata": {},
   "outputs": [
    {
     "data": {
      "text/plain": [
       "False"
      ]
     },
     "execution_count": 76,
     "metadata": {},
     "output_type": "execute_result"
    }
   ],
   "source": [
    "r==r/s"
   ]
  },
  {
   "cell_type": "code",
   "execution_count": 95,
   "id": "18d95469-1a1d-46a0-b504-b1241732e2e1",
   "metadata": {},
   "outputs": [],
   "source": [
    "#  Q7. What do you understand about mutable and immutable data types? Give examples for both showing this property."
   ]
  },
  {
   "cell_type": "code",
   "execution_count": 97,
   "id": "55c31282-a813-461b-ba57-66e615a5ab34",
   "metadata": {},
   "outputs": [
    {
     "ename": "TypeError",
     "evalue": "'str' object does not support item assignment",
     "output_type": "error",
     "traceback": [
      "\u001b[0;31m---------------------------------------------------------------------------\u001b[0m",
      "\u001b[0;31mTypeError\u001b[0m                                 Traceback (most recent call last)",
      "Cell \u001b[0;32mIn[97], line 3\u001b[0m\n\u001b[1;32m      1\u001b[0m \u001b[38;5;124;03m'''imutable'''\u001b[39;00m\n\u001b[1;32m      2\u001b[0m l\u001b[38;5;241m=\u001b[39m\u001b[38;5;124m\"\u001b[39m\u001b[38;5;124mkernel\u001b[39m\u001b[38;5;124m\"\u001b[39m\n\u001b[0;32m----> 3\u001b[0m \u001b[43ml\u001b[49m\u001b[43m[\u001b[49m\u001b[38;5;241;43m1\u001b[39;49m\u001b[43m]\u001b[49m\u001b[38;5;241m=\u001b[39mc\n",
      "\u001b[0;31mTypeError\u001b[0m: 'str' object does not support item assignment"
     ]
    }
   ],
   "source": [
    "'''imutable'''\n",
    "l=\"kernel\"\n",
    "l[1]=c"
   ]
  },
  {
   "cell_type": "code",
   "execution_count": 99,
   "id": "8c0a6977-e195-45ad-8fa6-7973f1b286b6",
   "metadata": {},
   "outputs": [
    {
     "data": {
      "text/plain": [
       "[1, 2, 3, 'list', 'tuple', 'dict', True, 17.4, 97, 76]"
      ]
     },
     "execution_count": 99,
     "metadata": {},
     "output_type": "execute_result"
    }
   ],
   "source": [
    "e"
   ]
  },
  {
   "cell_type": "code",
   "execution_count": 100,
   "id": "c32d5cc3-e9cb-472b-bb85-a19c734bfeff",
   "metadata": {},
   "outputs": [],
   "source": [
    "'''mutable'''\n",
    "e[3]=\"I\""
   ]
  },
  {
   "cell_type": "code",
   "execution_count": 101,
   "id": "c42ea877-3506-4fda-b0e4-f8921848cd98",
   "metadata": {},
   "outputs": [
    {
     "data": {
      "text/plain": [
       "[1, 2, 3, 'I', 'tuple', 'dict', True, 17.4, 97, 76]"
      ]
     },
     "execution_count": 101,
     "metadata": {},
     "output_type": "execute_result"
    }
   ],
   "source": [
    "e"
   ]
  },
  {
   "cell_type": "code",
   "execution_count": 105,
   "id": "4a4e4d64-d4e6-43f7-90c7-e6533e57cb33",
   "metadata": {},
   "outputs": [
    {
     "name": "stdout",
     "output_type": "stream",
     "text": [
      "finsh [thank you]\n"
     ]
    }
   ],
   "source": [
    "print(\"finsh\",\"[thank you]\")"
   ]
  },
  {
   "cell_type": "code",
   "execution_count": null,
   "id": "8412c041-3ef8-4b2c-a194-f4b2afd677f6",
   "metadata": {},
   "outputs": [],
   "source": []
  }
 ],
 "metadata": {
  "kernelspec": {
   "display_name": "Python 3 (ipykernel)",
   "language": "python",
   "name": "python3"
  },
  "language_info": {
   "codemirror_mode": {
    "name": "ipython",
    "version": 3
   },
   "file_extension": ".py",
   "mimetype": "text/x-python",
   "name": "python",
   "nbconvert_exporter": "python",
   "pygments_lexer": "ipython3",
   "version": "3.10.8"
  }
 },
 "nbformat": 4,
 "nbformat_minor": 5
}
