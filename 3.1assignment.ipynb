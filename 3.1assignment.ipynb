{
 "cells": [
  {
   "cell_type": "code",
   "execution_count": 1,
   "id": "5b610b5f-2597-4069-9f5f-b70fa1788e20",
   "metadata": {},
   "outputs": [],
   "source": [
    "# Q1. Which keyword is used to create a function? Create a function to return a list of odd numbers in the range of 1 to 25."
   ]
  },
  {
   "cell_type": "code",
   "execution_count": 2,
   "id": "d49c5503-b779-4de7-9c18-8bd3fc9c2e07",
   "metadata": {},
   "outputs": [],
   "source": [
    "my_list = list(range(1,25))"
   ]
  },
  {
   "cell_type": "code",
   "execution_count": 3,
   "id": "0eed1715-ed98-43db-9aef-57671d606544",
   "metadata": {},
   "outputs": [
    {
     "data": {
      "text/plain": [
       "[1, 3, 5, 7, 9, 11, 13, 15, 17, 19, 21, 23]"
      ]
     },
     "execution_count": 3,
     "metadata": {},
     "output_type": "execute_result"
    }
   ],
   "source": [
    "list (filter(lambda x : x % 2 != 0 , my_list ))"
   ]
  },
  {
   "cell_type": "code",
   "execution_count": 4,
   "id": "116edded-fd4e-4a3d-8d53-97bb89144520",
   "metadata": {},
   "outputs": [],
   "source": [
    "# Q2. Why *args and **kwargs is used in some functions? Create a function each for *args and **kwargs to demonstrate their use."
   ]
  },
  {
   "cell_type": "code",
   "execution_count": 5,
   "id": "0fb8be8d-6712-45e5-9f49-17db9628e162",
   "metadata": {},
   "outputs": [
    {
     "name": "stdout",
     "output_type": "stream",
     "text": [
      "1 2 3 4\n"
     ]
    }
   ],
   "source": [
    "#  *args not able us to pass the variable number of non-keyword arguments to functions, but we cannot use this to pass keyword arguments. \n",
    "l = [1,2,3,4]\n",
    "print(*l)"
   ]
  },
  {
   "cell_type": "code",
   "execution_count": 6,
   "id": "65805145-733a-432f-be68-5b525f6fc717",
   "metadata": {},
   "outputs": [],
   "source": [
    "# **kwargs allows us to pass a variable number of keyword arguments to a Python function.\n",
    "def test(**kwargs):\n",
    "    return kwargs"
   ]
  },
  {
   "cell_type": "code",
   "execution_count": 7,
   "id": "0c1e4a74-7cf7-413e-9c4f-141559802275",
   "metadata": {},
   "outputs": [
    {
     "data": {
      "text/plain": [
       "{}"
      ]
     },
     "execution_count": 7,
     "metadata": {},
     "output_type": "execute_result"
    }
   ],
   "source": [
    "test()"
   ]
  },
  {
   "cell_type": "code",
   "execution_count": 8,
   "id": "fec8adce-1da4-4732-a80e-51ed85e2ecd5",
   "metadata": {},
   "outputs": [
    {
     "data": {
      "text/plain": [
       "{'a': [1, 2, 3, 4], 'b': 'sudh', 'c': 23.45}"
      ]
     },
     "execution_count": 8,
     "metadata": {},
     "output_type": "execute_result"
    }
   ],
   "source": [
    "test (a = [1,2,3,4] , b = \"sudh\" , c = 23.45 )"
   ]
  },
  {
   "cell_type": "code",
   "execution_count": 9,
   "id": "4e81a2a6-c78a-4f6c-b8c6-0887d4610a27",
   "metadata": {},
   "outputs": [],
   "source": [
    "# Q3. What is an iterator in python? Name the method used to initialise the iterator object and the method used for iteration. Use these methods to print the first five elements of the given list [2, 4, 6, 8, 10, 12, 14, 16, 18, 20]."
   ]
  },
  {
   "cell_type": "code",
   "execution_count": 10,
   "id": "5e9dc8b3-b558-4171-84c6-ea9ecea49437",
   "metadata": {},
   "outputs": [],
   "source": [
    "#An iterator in Python is an object that contains a countable number of elements that can be iterated upon\n",
    "list = [2, 4, 6, 8, 10, 12, 14, 16, 18, 20]"
   ]
  },
  {
   "cell_type": "code",
   "execution_count": 11,
   "id": "8310c165-0efc-4073-aa65-f7f5afb729fb",
   "metadata": {},
   "outputs": [
    {
     "data": {
      "text/plain": [
       "[2, 4, 6, 8, 10]"
      ]
     },
     "execution_count": 11,
     "metadata": {},
     "output_type": "execute_result"
    }
   ],
   "source": [
    "list[0:5]"
   ]
  },
  {
   "cell_type": "code",
   "execution_count": 12,
   "id": "61240f65-dc1c-4db9-a95f-d83c1fd6dec9",
   "metadata": {},
   "outputs": [],
   "source": [
    "#   Q4. What is a generator function in python? Why yield keyword is used? Give an example of a generator function."
   ]
  },
  {
   "cell_type": "code",
   "execution_count": 13,
   "id": "ae53aed6-7a71-414c-8307-a6374ed068e3",
   "metadata": {},
   "outputs": [],
   "source": [
    "# yield keyword is used to create a generator function. A type of function that is memory efficient and can be used like an iterator object. \n"
   ]
  },
  {
   "cell_type": "code",
   "execution_count": 1,
   "id": "3d2f22d5-b1aa-4dc4-ad72-90ba6c7be6a9",
   "metadata": {},
   "outputs": [
    {
     "name": "stdout",
     "output_type": "stream",
     "text": [
      "1\n",
      "2\n",
      "3\n"
     ]
    }
   ],
   "source": [
    "def simpleGeneratorFun():\n",
    "    yield 1\n",
    "    yield 2\n",
    "    yield 3\n",
    " \n",
    " \n",
    "# Driver code to check above generator function\n",
    "for value in simpleGeneratorFun():\n",
    "    print(value)"
   ]
  },
  {
   "cell_type": "code",
   "execution_count": 2,
   "id": "69f6b13c-6a9d-421c-8aa5-a5094e980959",
   "metadata": {},
   "outputs": [
    {
     "name": "stdout",
     "output_type": "stream",
     "text": [
      "1\n",
      "4\n",
      "9\n",
      "16\n",
      "25\n",
      "36\n",
      "49\n",
      "64\n",
      "81\n",
      "100\n"
     ]
    }
   ],
   "source": [
    "def nextSquare():\n",
    "    i = 1\n",
    " \n",
    "    # An Infinite loop to generate squares\n",
    "    while True:\n",
    "        yield i*i\n",
    "        i += 1  # Next execution resumes\n",
    "        # from this point\n",
    " \n",
    " \n",
    "# Driver code to test above generator\n",
    "# function\n",
    "for num in nextSquare():\n",
    "    if num > 100:\n",
    "        break\n",
    "    print(num)"
   ]
  },
  {
   "cell_type": "code",
   "execution_count": 17,
   "id": "0a8f25d7-11ab-45ac-bdbb-6b0355f587f5",
   "metadata": {},
   "outputs": [],
   "source": [
    "# Q5.Create a generator function for prime numbers less than 1000. Use the next() method to print the first 20 prime numbers."
   ]
  },
  {
   "cell_type": "code",
   "execution_count": 18,
   "id": "7c0761b5-d447-401f-ab4d-9dd76b9fbdb2",
   "metadata": {},
   "outputs": [
    {
     "name": "stdout",
     "output_type": "stream",
     "text": [
      "2\n",
      "3\n",
      "5\n",
      "7\n",
      "11\n",
      "13\n",
      "17\n",
      "19\n",
      "23\n",
      "29\n",
      "31\n",
      "37\n",
      "41\n",
      "43\n",
      "47\n",
      "53\n",
      "59\n",
      "61\n",
      "67\n",
      "71\n"
     ]
    }
   ],
   "source": [
    "\n",
    "#a generator function for prime numbers less than 1000. Use the next() method to print the first 20 prime numbers.\n",
    "def primes():\n",
    "    \"\"\"Create a generator function for prime numbers less than 1000.\"\"\"\n",
    "    yield 2\n",
    "    primes_list = [2]\n",
    "    for i in range(3, 1000):\n",
    "        is_prime = True\n",
    "        for prime in primes_list:\n",
    "            if i % prime == 0:\n",
    "                is_prime = False\n",
    "                break\n",
    "        if is_prime:\n",
    "            primes_list.append(i)\n",
    "            yield i\n",
    "\n",
    "prime_gen = primes()\n",
    "# the next() method to print the first 20 prime numbers.\n",
    "for i in range(20):\n",
    "    print(next(prime_gen))\n"
   ]
  },
  {
   "cell_type": "code",
   "execution_count": 19,
   "id": "f73e1bb0-175e-41eb-864b-78e3c5451737",
   "metadata": {},
   "outputs": [],
   "source": [
    "# Q6. Write a python program to print the first 10 Fibonacci numbers using a while loop."
   ]
  },
  {
   "cell_type": "code",
   "execution_count": 20,
   "id": "3530a58e-1d26-42dd-9da3-43db3025382f",
   "metadata": {},
   "outputs": [],
   "source": [
    "def test1():\n",
    "    n , a = 1 ,2\n",
    "    while True:\n",
    "        yield n\n",
    "        n ,a = a, n+a"
   ]
  },
  {
   "cell_type": "code",
   "execution_count": 21,
   "id": "42b851a0-1763-4dc1-a81c-507a70e20152",
   "metadata": {},
   "outputs": [],
   "source": [
    "fib = test1()"
   ]
  },
  {
   "cell_type": "code",
   "execution_count": 22,
   "id": "1c45adb5-ab8f-454d-805a-af605bd53805",
   "metadata": {},
   "outputs": [
    {
     "name": "stdout",
     "output_type": "stream",
     "text": [
      "1\n",
      "2\n",
      "3\n",
      "5\n",
      "8\n",
      "13\n",
      "21\n",
      "34\n",
      "55\n",
      "89\n"
     ]
    }
   ],
   "source": [
    "for i in range (10):\n",
    "    print(next(fib))"
   ]
  },
  {
   "cell_type": "code",
   "execution_count": 23,
   "id": "979ade7c-235f-4a54-910d-20afd89e24f6",
   "metadata": {},
   "outputs": [],
   "source": [
    "# Q7. Write a List Comprehension to iterate through the given string: ‘pwskills’. Expected output: ['p', 'w', 's', 'k', 'i', 'l', 'l', 's']"
   ]
  },
  {
   "cell_type": "code",
   "execution_count": 1,
   "id": "0c00a082-4862-40ed-af66-2621a67746c2",
   "metadata": {},
   "outputs": [
    {
     "data": {
      "text/plain": [
       "['P', 'W', 'S', 'K', 'I', 'L', 'L', 'S']"
      ]
     },
     "execution_count": 1,
     "metadata": {},
     "output_type": "execute_result"
    }
   ],
   "source": [
    "name = \"pwskills\"\n",
    "list(map(lambda name: name.upper() ,name))"
   ]
  },
  {
   "cell_type": "code",
   "execution_count": 27,
   "id": "ab6d0920-4ddc-4e88-8801-f568ae0ee4b6",
   "metadata": {},
   "outputs": [],
   "source": [
    " #  Q8. Write a python program to check whether a given number is Palindrome or not using a while loop."
   ]
  },
  {
   "cell_type": "code",
   "execution_count": 15,
   "id": "71a100e7-fad8-4772-b171-285665c5062f",
   "metadata": {},
   "outputs": [
    {
     "name": "stdin",
     "output_type": "stream",
     "text": [
      "Enter a number:  55\n"
     ]
    },
    {
     "name": "stdout",
     "output_type": "stream",
     "text": [
      "The number is a palindrome.\n"
     ]
    }
   ],
   "source": [
    "def is_palindrome(n):# Reverse the number.\n",
    "    reversed_number = 0\n",
    "    while n > 0:\n",
    "        reversed_number = reversed_number * 10 + n % 10\n",
    "        n //= 10\n",
    "\n",
    "  # Check if the original number and the reversed number are equal.\n",
    "        return n == reversed_number\n",
    "\n",
    "\n",
    "if __name__ == \"__main__\":\n",
    "  # Get the number from the user.\n",
    "  n = int(input(\"Enter a number: \"))\n",
    "\n",
    "  # Check if the number is a palindrome.\n",
    "if is_palindrome(n):\n",
    "    print(\"The number is a palindrome.\")\n",
    "else:\n",
    "    print(\"The number is not a palindrome.\")"
   ]
  },
  {
   "cell_type": "code",
   "execution_count": 30,
   "id": "ddecb2b6-a025-43a9-bba4-2ce61772d78a",
   "metadata": {},
   "outputs": [],
   "source": [
    "# Q9. Write a code to print odd numbers from 1 to 100 using list comprehension."
   ]
  },
  {
   "cell_type": "code",
   "execution_count": 2,
   "id": "665bd5af-fc7b-493f-99b5-48ce26cbb6d5",
   "metadata": {},
   "outputs": [],
   "source": [
    "odd= list(range(1,100))"
   ]
  },
  {
   "cell_type": "code",
   "execution_count": 3,
   "id": "d2348023-b1a9-4c8a-b150-b17be776482d",
   "metadata": {},
   "outputs": [
    {
     "data": {
      "text/plain": [
       "[1,\n",
       " 3,\n",
       " 5,\n",
       " 7,\n",
       " 9,\n",
       " 11,\n",
       " 13,\n",
       " 15,\n",
       " 17,\n",
       " 19,\n",
       " 21,\n",
       " 23,\n",
       " 25,\n",
       " 27,\n",
       " 29,\n",
       " 31,\n",
       " 33,\n",
       " 35,\n",
       " 37,\n",
       " 39,\n",
       " 41,\n",
       " 43,\n",
       " 45,\n",
       " 47,\n",
       " 49,\n",
       " 51,\n",
       " 53,\n",
       " 55,\n",
       " 57,\n",
       " 59,\n",
       " 61,\n",
       " 63,\n",
       " 65,\n",
       " 67,\n",
       " 69,\n",
       " 71,\n",
       " 73,\n",
       " 75,\n",
       " 77,\n",
       " 79,\n",
       " 81,\n",
       " 83,\n",
       " 85,\n",
       " 87,\n",
       " 89,\n",
       " 91,\n",
       " 93,\n",
       " 95,\n",
       " 97,\n",
       " 99]"
      ]
     },
     "execution_count": 3,
     "metadata": {},
     "output_type": "execute_result"
    }
   ],
   "source": [
    "list (filter(lambda x : x % 2 != 0 , odd))"
   ]
  },
  {
   "cell_type": "code",
   "execution_count": null,
   "id": "4f163aab-b841-4927-9e31-4518c538a416",
   "metadata": {},
   "outputs": [],
   "source": []
  }
 ],
 "metadata": {
  "kernelspec": {
   "display_name": "Python 3 (ipykernel)",
   "language": "python",
   "name": "python3"
  },
  "language_info": {
   "codemirror_mode": {
    "name": "ipython",
    "version": 3
   },
   "file_extension": ".py",
   "mimetype": "text/x-python",
   "name": "python",
   "nbconvert_exporter": "python",
   "pygments_lexer": "ipython3",
   "version": "3.10.8"
  }
 },
 "nbformat": 4,
 "nbformat_minor": 5
}
