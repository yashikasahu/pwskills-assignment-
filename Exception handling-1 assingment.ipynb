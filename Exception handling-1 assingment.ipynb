{
 "cells": [
  {
   "cell_type": "markdown",
   "id": "6a86bd39-c637-479d-ad3f-b2732fd9b64d",
   "metadata": {},
   "source": [
    "Q1. What is an Exception in python? Write the differen,e etween Ex,eptions and syntax errors."
   ]
  },
  {
   "cell_type": "code",
   "execution_count": null,
   "id": "a076735c-726d-441e-b6e1-ec6a970a8bfb",
   "metadata": {},
   "outputs": [],
   "source": [
    "'''an exception is an event that occurs during the execution of a program that disrupts the normal flow of the program's instructions. \n",
    "When an error or an unexpected condition arises, Python raises an exception, which can be handled using try and except blocks. If the \n",
    "exception is not handled, it will propagate up the call stack and eventually terminate the program, producing a traceback.'''\n",
    "\n",
    "#Syntax errors prevent a program from being interpreted or compiled, as they violate the language's grammar rules.\n",
    "\n",
    "#Exceptions are runtime errors that occur while the program is running, often due to unforeseen conditions or logical errors in the code."
   ]
  },
  {
   "cell_type": "code",
   "execution_count": null,
   "id": "384f6b17-a86a-49ad-8164-d3e9f95d5df5",
   "metadata": {},
   "outputs": [],
   "source": [
    "Q2. what happen an exception is not handled? Explain with an example."
   ]
  },
  {
   "cell_type": "code",
   "execution_count": 2,
   "id": "f5b47d17-2392-48e0-8dd5-df9082c93aa3",
   "metadata": {},
   "outputs": [
    {
     "ename": "FileNotFoundError",
     "evalue": "[Errno 2] No such file or directory: 'test.txt'",
     "output_type": "error",
     "traceback": [
      "\u001b[0;31m---------------------------------------------------------------------------\u001b[0m",
      "\u001b[0;31mFileNotFoundError\u001b[0m                         Traceback (most recent call last)",
      "Cell \u001b[0;32mIn[2], line 2\u001b[0m\n\u001b[1;32m      1\u001b[0m \u001b[38;5;66;03m# When an exception is not handled in Python, the program terminates abruptly, and an error message, known as a traceback, is displayed.\u001b[39;00m\n\u001b[0;32m----> 2\u001b[0m f\u001b[38;5;241m=\u001b[39m \u001b[38;5;28;43mopen\u001b[39;49m\u001b[43m \u001b[49m\u001b[43m(\u001b[49m\u001b[38;5;124;43m\"\u001b[39;49m\u001b[38;5;124;43mtest.txt\u001b[39;49m\u001b[38;5;124;43m\"\u001b[39;49m\u001b[43m \u001b[49m\u001b[43m,\u001b[49m\u001b[43m \u001b[49m\u001b[38;5;124;43m'\u001b[39;49m\u001b[38;5;124;43mr\u001b[39;49m\u001b[38;5;124;43m'\u001b[39;49m\u001b[43m)\u001b[49m\n",
      "File \u001b[0;32m/opt/conda/lib/python3.10/site-packages/IPython/core/interactiveshell.py:282\u001b[0m, in \u001b[0;36m_modified_open\u001b[0;34m(file, *args, **kwargs)\u001b[0m\n\u001b[1;32m    275\u001b[0m \u001b[38;5;28;01mif\u001b[39;00m file \u001b[38;5;129;01min\u001b[39;00m {\u001b[38;5;241m0\u001b[39m, \u001b[38;5;241m1\u001b[39m, \u001b[38;5;241m2\u001b[39m}:\n\u001b[1;32m    276\u001b[0m     \u001b[38;5;28;01mraise\u001b[39;00m \u001b[38;5;167;01mValueError\u001b[39;00m(\n\u001b[1;32m    277\u001b[0m         \u001b[38;5;124mf\u001b[39m\u001b[38;5;124m\"\u001b[39m\u001b[38;5;124mIPython won\u001b[39m\u001b[38;5;124m'\u001b[39m\u001b[38;5;124mt let you open fd=\u001b[39m\u001b[38;5;132;01m{\u001b[39;00mfile\u001b[38;5;132;01m}\u001b[39;00m\u001b[38;5;124m by default \u001b[39m\u001b[38;5;124m\"\u001b[39m\n\u001b[1;32m    278\u001b[0m         \u001b[38;5;124m\"\u001b[39m\u001b[38;5;124mas it is likely to crash IPython. If you know what you are doing, \u001b[39m\u001b[38;5;124m\"\u001b[39m\n\u001b[1;32m    279\u001b[0m         \u001b[38;5;124m\"\u001b[39m\u001b[38;5;124myou can use builtins\u001b[39m\u001b[38;5;124m'\u001b[39m\u001b[38;5;124m open.\u001b[39m\u001b[38;5;124m\"\u001b[39m\n\u001b[1;32m    280\u001b[0m     )\n\u001b[0;32m--> 282\u001b[0m \u001b[38;5;28;01mreturn\u001b[39;00m \u001b[43mio_open\u001b[49m\u001b[43m(\u001b[49m\u001b[43mfile\u001b[49m\u001b[43m,\u001b[49m\u001b[43m \u001b[49m\u001b[38;5;241;43m*\u001b[39;49m\u001b[43margs\u001b[49m\u001b[43m,\u001b[49m\u001b[43m \u001b[49m\u001b[38;5;241;43m*\u001b[39;49m\u001b[38;5;241;43m*\u001b[39;49m\u001b[43mkwargs\u001b[49m\u001b[43m)\u001b[49m\n",
      "\u001b[0;31mFileNotFoundError\u001b[0m: [Errno 2] No such file or directory: 'test.txt'"
     ]
    }
   ],
   "source": [
    "# When an exception is not handled in Python, the program terminates abruptly, and an error message, known as a traceback, is displayed.\n",
    "f= open (\"test.txt\" , 'r')"
   ]
  },
  {
   "cell_type": "markdown",
   "id": "3a1da8ed-79b5-40db-b2ec-aeab94cad087",
   "metadata": {},
   "source": [
    "Q3. Which Python statments are used to catch and handle exception? Explain witn an example."
   ]
  },
  {
   "cell_type": "code",
   "execution_count": 6,
   "id": "9b7c329d-2904-49d1-afe4-381ed599393f",
   "metadata": {},
   "outputs": [
    {
     "name": "stdout",
     "output_type": "stream",
     "text": [
      "exception handling\n",
      " [Errno 2] No such file or directory: 'test.txt'\n"
     ]
    }
   ],
   "source": [
    "# In Python, the primary statements used to catch and handle exceptions are try and except. Additionally, you can use the else and finally blocks to manage code that should run conditionally based on whether an exception occurred.\n",
    "try:\n",
    "    f =open(\"test.txt\", 'r')\n",
    "except Exception as e:\n",
    "    print(\"exception handling\\n\",e)"
   ]
  },
  {
   "cell_type": "markdown",
   "id": "51b30cd5-9973-434a-b113-7a8a05811af9",
   "metadata": {},
   "source": [
    "Q4. Explain with an example:"
   ]
  },
  {
   "cell_type": "code",
   "execution_count": 7,
   "id": "b436f518-7676-46a6-8057-4089ce3eba46",
   "metadata": {},
   "outputs": [
    {
     "name": "stdout",
     "output_type": "stream",
     "text": [
      "exception handling\n",
      " [Errno 2] No such file or directory: 'test.txt'\n"
     ]
    }
   ],
   "source": [
    "#try and else\n",
    "try:\n",
    "    f =open(\"test.txt\", 'r')\n",
    "except Exception as e:\n",
    "    print(\"exception handling\\n\",e)\n",
    "else:\n",
    "    f.close()\n",
    "    print(\"this will only excute if try code run without an error .\")"
   ]
  },
  {
   "cell_type": "code",
   "execution_count": 8,
   "id": "56f72fd0-415a-481a-96b3-9a86661e5702",
   "metadata": {},
   "outputs": [
    {
     "name": "stdout",
     "output_type": "stream",
     "text": [
      "exception handling\n",
      " [Errno 2] No such file or directory: 'test.txt'\n",
      "this code will excute in every suitation.\n"
     ]
    }
   ],
   "source": [
    "#finally\n",
    "try:\n",
    "    f =open(\"test.txt\", 'r')\n",
    "except Exception as e:\n",
    "    print(\"exception handling\\n\",e)\n",
    "else:\n",
    "    f.close()\n",
    "    print(\"this will only excute if try code run without an error .\")\n",
    "finally:\n",
    "    print(\"this code will excute in every suitation.\")"
   ]
  },
  {
   "cell_type": "code",
   "execution_count": 9,
   "id": "40756e24-1b44-4cc5-a897-d3e70b92b123",
   "metadata": {},
   "outputs": [
    {
     "name": "stdout",
     "output_type": "stream",
     "text": [
      "Caught an exception: Age cannot be negative.\n"
     ]
    }
   ],
   "source": [
    "#raise\n",
    "def check_age(age):\n",
    "    if age < 0:\n",
    "        raise ValueError(\"Age cannot be negative.\")\n",
    "    else:\n",
    "        print(f\"Your age is {age}.\")\n",
    "\n",
    "try:\n",
    "    check_age(-5)\n",
    "except ValueError as e:\n",
    "    print(f\"Caught an exception: {e}\")"
   ]
  },
  {
   "cell_type": "markdown",
   "id": "d23ba56d-bab6-4329-83f2-21b54801c447",
   "metadata": {},
   "source": [
    "Q5. What are Custom Exception in python? Why do we need Custom Exceptions? Explain with an example."
   ]
  },
  {
   "cell_type": "code",
   "execution_count": 16,
   "id": "b3dbbb65-9e8d-41aa-9881-f9d67bb6ae75",
   "metadata": {},
   "outputs": [],
   "source": [
    "# Custom exceptions in Python are user-defined exceptions that allow you to create your own error types, tailored to specific needs in your code.\n",
    "# *Clarity and Specificity    *Better Error Handling   *Enhanced Debugging    *Consistency\n",
    "# Define a custom exception class\n",
    "class MyCustomError(Exception):\n",
    "    pass"
   ]
  },
  {
   "cell_type": "code",
   "execution_count": 17,
   "id": "3508e824-cecd-40d2-942b-ba19e6d38fa7",
   "metadata": {},
   "outputs": [],
   "source": [
    "def check_value(value):\n",
    "    if value < 0:\n",
    "        raise MyCustomError(\"Value cannot be negative!\")"
   ]
  },
  {
   "cell_type": "code",
   "execution_count": 18,
   "id": "16d8c039-725f-4f61-8c05-a0bd5782bcf2",
   "metadata": {},
   "outputs": [
    {
     "name": "stdout",
     "output_type": "stream",
     "text": [
      "Value cannot be negative!\n"
     ]
    }
   ],
   "source": [
    "try:\n",
    "    check_value(-1)\n",
    "except MyCustomError as e:\n",
    "    print(e)"
   ]
  },
  {
   "cell_type": "markdown",
   "id": "28533f66-b5fa-47e3-9a48-ee7a2c0614fd",
   "metadata": {},
   "source": [
    "Q6. Create a custom exception class. Use to handle an exception."
   ]
  },
  {
   "cell_type": "code",
   "execution_count": 15,
   "id": "5a497969-9aab-4a76-811f-6fbd352a1016",
   "metadata": {},
   "outputs": [],
   "source": [
    "class validateage(Exception):\n",
    "    \n",
    "    def __init__(self , msg):\n",
    "        self.msg =msg"
   ]
  },
  {
   "cell_type": "code",
   "execution_count": 11,
   "id": "6ebb0217-828a-40d6-b556-81c2d0d48404",
   "metadata": {},
   "outputs": [],
   "source": [
    "def validate(age):\n",
    "    if age < 0 :\n",
    "         raise validateage(\"entered age is negative\")\n",
    "    elif age > 150:\n",
    "           raise validateage(\"entered age is very high\")\n",
    "    else :\n",
    "         print(\"age is valid \")  "
   ]
  },
  {
   "cell_type": "code",
   "execution_count": 13,
   "id": "f62ea4b4-6c89-4b2c-bb53-e58540e48f5b",
   "metadata": {},
   "outputs": [
    {
     "name": "stdin",
     "output_type": "stream",
     "text": [
      "enter your age  -58\n"
     ]
    },
    {
     "name": "stdout",
     "output_type": "stream",
     "text": [
      "entered age is negative\n"
     ]
    }
   ],
   "source": [
    "try:\n",
    "    age = int (input(\"enter your age \"))\n",
    "    validate(age)\n",
    "except validateage as e:\n",
    "    print(e)"
   ]
  },
  {
   "cell_type": "code",
   "execution_count": null,
   "id": "9adeeeab-5b0e-4160-8ed2-6c763ee91be4",
   "metadata": {},
   "outputs": [],
   "source": []
  }
 ],
 "metadata": {
  "kernelspec": {
   "display_name": "Python 3 (ipykernel)",
   "language": "python",
   "name": "python3"
  },
  "language_info": {
   "codemirror_mode": {
    "name": "ipython",
    "version": 3
   },
   "file_extension": ".py",
   "mimetype": "text/x-python",
   "name": "python",
   "nbconvert_exporter": "python",
   "pygments_lexer": "ipython3",
   "version": "3.10.8"
  }
 },
 "nbformat": 4,
 "nbformat_minor": 5
}
