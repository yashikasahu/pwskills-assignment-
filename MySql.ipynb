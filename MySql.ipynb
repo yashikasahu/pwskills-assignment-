{
 "cells": [
  {
   "cell_type": "markdown",
   "metadata": {},
   "source": [
    "# Q1. What is a database? Differentiate between SQL and NoSQL databases."
   ]
  },
  {
   "cell_type": "markdown",
   "metadata": {},
   "source": [
    "### **Q1. What is a Database?**  \n",
    "A **database** is an organized collection of data used for efficient storage, retrieval, and management.  \n",
    "\n",
    "### **Difference Between SQL and NoSQL Databases**  \n",
    "\n",
    "| Feature  | SQL Database | NoSQL Database |\n",
    "|----------|-------------|---------------|\n",
    "| **Structure** | Tables (Relational) | Flexible (Key-Value, Document, Graph) |\n",
    "| **Schema** | Fixed schema | Dynamic schema |\n",
    "| **Scalability** | Vertical (Add resources) | Horizontal (Add servers) |\n",
    "| **Query Language** | SQL (Structured Query Language) | Varies (JSON, NoSQL query) |\n",
    "| **Best For** | Structured data (Banking, ERP) | Unstructured data (Big Data, IoT) |\n",
    "| **Examples** | MySQL, PostgreSQL | MongoDB, Firebase |\n",
    "\n",
    "### **Conclusion:**  \n",
    "- **SQL** is best for structured, transactional data.  \n",
    "- **NoSQL** is better for flexible, high-volume, real-time applications."
   ]
  },
  {
   "cell_type": "markdown",
   "metadata": {},
   "source": [
    "# Q2. What is DDL? Explain why CREATE, DROP, ALTER, and TRUNCATE are used with an example."
   ]
  },
  {
   "cell_type": "markdown",
   "metadata": {},
   "source": [
    "### **Q2. What is DDL?**  \n",
    "**DDL (Data Definition Language)** is a subset of SQL used to define and manage database structures, such as tables, schemas, and indexes.  \n",
    "\n",
    "### **Key DDL Commands with Examples**  \n",
    "\n",
    "1. **CREATE** – Used to create a new table or database.  \n",
    "   ```sql\n",
    "   CREATE TABLE Students (\n",
    "       ID INT PRIMARY KEY,\n",
    "       Name VARCHAR(50),\n",
    "       Age INT\n",
    "   );\n",
    "   ```\n",
    "2. **DROP** – Deletes a table or database permanently.  \n",
    "   ```sql\n",
    "   DROP TABLE Students;\n",
    "   ```\n",
    "3. **ALTER** – Modifies an existing table (adds, deletes, or modifies columns).  \n",
    "   ```sql\n",
    "   ALTER TABLE Students ADD COLUMN Address VARCHAR(100);\n",
    "   ```\n",
    "4. **TRUNCATE** – Deletes all records from a table but keeps its structure.  \n",
    "   ```sql\n",
    "   TRUNCATE TABLE Students;\n",
    "   ```\n",
    "\n",
    "### **Conclusion:**  \n",
    "- **CREATE** → Defines a new table.  \n",
    "- **DROP** → Completely removes a table.  \n",
    "- **ALTER** → Modifies an existing table.  \n",
    "- **TRUNCATE** → Deletes data but keeps the table structure."
   ]
  },
  {
   "cell_type": "markdown",
   "metadata": {},
   "source": [
    "# Q3. What is DML? Explain INSERT, UPDATE, and DELETE with an example."
   ]
  },
  {
   "cell_type": "markdown",
   "metadata": {},
   "source": [
    "### **Q3. What is DML?**  \n",
    "**DML (Data Manipulation Language)** is a subset of SQL used to **modify and manage data** within database tables.  \n",
    "\n",
    "### **Key DML Commands with Examples**  \n",
    "\n",
    "1. **INSERT** – Adds new records into a table.  \n",
    "   ```sql\n",
    "   INSERT INTO Students (ID, Name, Age) \n",
    "   VALUES (1, 'John Doe', 20);\n",
    "   ```\n",
    "2. **UPDATE** – Modifies existing records in a table.  \n",
    "   ```sql\n",
    "   UPDATE Students \n",
    "   SET Age = 21 \n",
    "   WHERE ID = 1;\n",
    "   ```\n",
    "3. **DELETE** – Removes records from a table.  \n",
    "   ```sql\n",
    "   DELETE FROM Students \n",
    "   WHERE ID = 1;\n",
    "   ```\n",
    "\n",
    "### **Conclusion:**  \n",
    "- **INSERT** → Adds new data.  \n",
    "- **UPDATE** → Modifies existing data.  \n",
    "- **DELETE** → Removes data from a table."
   ]
  },
  {
   "cell_type": "markdown",
   "metadata": {},
   "source": [
    "### **Q4. What is DQL?**  \n",
    "**DQL (Data Query Language)** is a subset of SQL used to **retrieve data** from a database. It primarily consists of the **SELECT** statement.  \n",
    "\n",
    "### **SELECT Statement**  \n",
    "The **SELECT** command is used to fetch data from a table.  \n",
    "\n",
    "#### **Example Usage:**  \n",
    "\n",
    "1. **Retrieve all columns from a table:**  \n",
    "   ```sql\n",
    "   SELECT * FROM Students;\n",
    "   ```\n",
    "2. **Retrieve specific columns:**  \n",
    "   ```sql\n",
    "   SELECT Name, Age FROM Students;\n",
    "   ```\n",
    "3. **Filter data using WHERE clause:**  \n",
    "   ```sql\n",
    "   SELECT * FROM Students WHERE Age > 18;\n",
    "   ```\n",
    "4. **Sort data using ORDER BY:**  \n",
    "   ```sql\n",
    "   SELECT * FROM Students ORDER BY Name ASC;\n",
    "   ```\n",
    "\n",
    "### **Conclusion:**  \n",
    "The **SELECT** statement is the core of DQL, allowing users to query and retrieve data from a database efficiently."
   ]
  },
  {
   "cell_type": "markdown",
   "metadata": {},
   "source": [
    "### **Q5. Primary Key vs. Foreign Key**  \n",
    "\n",
    "| Feature         | **Primary Key** | **Foreign Key** |\n",
    "|---------------|---------------|---------------|\n",
    "| **Definition** | Uniquely identifies each record in a table. | Establishes a relationship between two tables. |\n",
    "| **Uniqueness** | Always unique for each row. | Can have duplicate values. |\n",
    "| **NULL Values** | Cannot be NULL. | Can have NULL values. |\n",
    "| **Table Presence** | Exists in its own table. | Refers to the **Primary Key** of another table. |\n",
    "| **Purpose** | Ensures unique identification of records. | Maintains referential integrity between tables. |\n",
    "\n",
    "### **Example:**  \n",
    "#### **Students Table (Primary Key: StudentID)**\n",
    "```sql\n",
    "CREATE TABLE Students (\n",
    "    StudentID INT PRIMARY KEY,\n",
    "    Name VARCHAR(50),\n",
    "    Age INT\n",
    ");\n",
    "```\n",
    "#### **Courses Table (Foreign Key: StudentID)**\n",
    "```sql\n",
    "CREATE TABLE Courses (\n",
    "    CourseID INT PRIMARY KEY,\n",
    "    CourseName VARCHAR(50),\n",
    "    StudentID INT,\n",
    "    FOREIGN KEY (StudentID) REFERENCES Students(StudentID)\n",
    ");\n",
    "```\n",
    "\n",
    "### **Conclusion:**  \n",
    "- **Primary Key** uniquely identifies records within a table.  \n",
    "- **Foreign Key** links two tables by referencing the Primary Key, ensuring **data integrity**."
   ]
  },
  {
   "cell_type": "markdown",
   "metadata": {},
   "source": [
    "# Q6. Write a python code to connect MySQL to python. Explain the cursor() and execute() method."
   ]
  },
  {
   "cell_type": "markdown",
   "metadata": {},
   "source": [
    "### **Python Code to Connect MySQL to Python**  \n",
    "```python\n",
    "import mysql.connector\n",
    "\n",
    "# Connect to MySQL\n",
    "conn = mysql.connector.connect(\n",
    "    host=\"localhost\",\n",
    "    user=\"root\",\n",
    "    password=\"yourpassword\",\n",
    "    database=\"yourdatabase\"\n",
    ")\n",
    "\n",
    "cursor = conn.cursor()  # Create a cursor object\n",
    "cursor.execute(\"SELECT * FROM Students\")  # Execute a query\n",
    "\n",
    "for row in cursor.fetchall():\n",
    "    print(row)  # Fetch and print results\n",
    "\n",
    "cursor.close()\n",
    "conn.close()  # Close connection\n",
    "```\n",
    "\n",
    "### **`cursor()` and `execute()` Explanation:**  \n",
    "- **`cursor()`** → Creates a cursor object to interact with the database.  \n",
    "- **`execute()`** → Runs SQL queries like `SELECT`, `INSERT`, etc.  \n",
    "\n",
    "This setup allows Python to communicate with MySQL efficiently. 🚀"
   ]
  },
  {
   "cell_type": "markdown",
   "metadata": {},
   "source": [
    "# Q7. Give the order of execution of SQL clauses in an SQL query.\n"
   ]
  },
  {
   "cell_type": "markdown",
   "metadata": {},
   "source": [
    "In SQL, the order in which clauses are **written** in a query is different from the order in which they are **executed**. Here’s the correct **order of execution** of SQL clauses:  \n",
    "\n",
    "### **Order of Execution of SQL Query Clauses**  \n",
    "\n",
    "1️⃣ **FROM** – Identifies the source tables involved in the query.  \n",
    "2️⃣ **JOIN** – Combines data from multiple tables based on conditions.  \n",
    "3️⃣ **WHERE** – Filters rows based on specified conditions.  \n",
    "4️⃣ **GROUP BY** – Groups rows that have the same values into summary rows.  \n",
    "5️⃣ **HAVING** – Filters grouped data (after `GROUP BY`).  \n",
    "6️⃣ **SELECT** – Determines which columns or expressions appear in the result.  \n",
    "7️⃣ **DISTINCT** – Removes duplicate rows from the result set.  \n",
    "8️⃣ **ORDER BY** – Sorts the result set.  \n",
    "9️⃣ **LIMIT / OFFSET** – Restricts the number of rows returned.  \n",
    "\n",
    "### **Example Query:**  \n",
    "```sql\n",
    "SELECT department, AVG(salary) AS avg_salary \n",
    "FROM employees\n",
    "WHERE salary > 50000\n",
    "GROUP BY department\n",
    "HAVING AVG(salary) > 60000\n",
    "ORDER BY avg_salary DESC\n",
    "LIMIT 5;\n",
    "```\n",
    "\n",
    "### **Execution Order:**  \n",
    "1️⃣ **FROM employees** – Identify the source table.  \n",
    "2️⃣ **WHERE salary > 50000** – Filter rows before grouping.  \n",
    "3️⃣ **GROUP BY department** – Aggregate rows based on `department`.  \n",
    "4️⃣ **HAVING AVG(salary) > 60000** – Filter aggregated results.  \n",
    "5️⃣ **SELECT department, AVG(salary) AS avg_salary** – Pick required columns.  \n",
    "6️⃣ **ORDER BY avg_salary DESC** – Sort results in descending order.  \n",
    "7️⃣ **LIMIT 5** – Return only the top 5 records.  \n",
    "\n",
    "This order is important to understand because some clauses depend on others (e.g., `HAVING` can’t be used without `GROUP BY`).  \n",
    "\n",
    "Let me know if you need a deeper explanation on any step! 🚀"
   ]
  },
  {
   "cell_type": "markdown",
   "metadata": {},
   "source": []
  }
 ],
 "metadata": {
  "kernelspec": {
   "display_name": "Python 3",
   "language": "python",
   "name": "python3"
  },
  "language_info": {
   "codemirror_mode": {
    "name": "ipython",
    "version": 3
   },
   "file_extension": ".py",
   "mimetype": "text/x-python",
   "name": "python",
   "nbconvert_exporter": "python",
   "pygments_lexer": "ipython3",
   "version": "3.11.9"
  }
 },
 "nbformat": 4,
 "nbformat_minor": 2
}
