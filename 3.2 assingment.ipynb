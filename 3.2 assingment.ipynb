{
 "cells": [
  {
   "cell_type": "markdown",
   "id": "e2acfb23-ed2f-43cf-b838-6fa7849e419c",
   "metadata": {},
   "source": [
    "\"\"\"Q1. Create a python program to sort the given list of tuples based on integer value using a lambda function. [('Sachin Tendulkar', 34357), ('Ricky Ponting', 27483), ('Jack Kallis', 25534), ('Virat Kohli', 24936)]\"\"\"\n"
   ]
  },
  {
   "cell_type": "code",
   "execution_count": 4,
   "id": "8c8c9447-7d42-49da-aa93-a1f60e8f1286",
   "metadata": {},
   "outputs": [],
   "source": [
    "l = [('Sachin Tendulkar', 34357), ('Ricky Ponting', 27483), ('Jack Kallis', 25534), ('Virat Kohli', 24936)]"
   ]
  },
  {
   "cell_type": "code",
   "execution_count": 6,
   "id": "0e82d5d7-c5aa-456c-8f3c-1633e703d173",
   "metadata": {},
   "outputs": [
    {
     "name": "stdout",
     "output_type": "stream",
     "text": [
      "[('Virat Kohli', 24936), ('Jack Kallis', 25534), ('Ricky Ponting', 27483), ('Sachin Tendulkar', 34357)]\n"
     ]
    }
   ],
   "source": [
    "l.sort(key= lambda x : x[1])\n",
    "print(l)"
   ]
  },
  {
   "cell_type": "markdown",
   "id": "fca26190-9807-438b-a689-4c6a262743cf",
   "metadata": {},
   "source": [
    "Q2. Write a Python Program to find the squares of all the numbers in the given list of integers using lambda and map functions."
   ]
  },
  {
   "cell_type": "code",
   "execution_count": 1,
   "id": "33154188-8960-441d-b040-e5420416250e",
   "metadata": {},
   "outputs": [],
   "source": [
    "sq =[1, 2, 3, 4, 5, 6, 7, 8, 9, 10]"
   ]
  },
  {
   "cell_type": "code",
   "execution_count": 3,
   "id": "d10a9ace-a93f-4ede-b7e8-49d53601fd09",
   "metadata": {},
   "outputs": [
    {
     "data": {
      "text/plain": [
       "[1, 4, 9, 16, 25, 36, 49, 64, 81, 100]"
      ]
     },
     "execution_count": 3,
     "metadata": {},
     "output_type": "execute_result"
    }
   ],
   "source": [
    "list(map(lambda x: x**2 ,sq))"
   ]
  },
  {
   "cell_type": "markdown",
   "id": "cac32cca-f2ce-4679-b3cf-2d2b4e1491eb",
   "metadata": {},
   "source": [
    "Q3. Write a python program to convert the given list of integers into a tuple of strings. Use map and\n",
    "lambda functions"
   ]
  },
  {
   "cell_type": "code",
   "execution_count": 7,
   "id": "872c3ac1-9202-4671-88c2-a72a1359e6cd",
   "metadata": {},
   "outputs": [],
   "source": [
    "l1=[1, 2, 3, 4, 5, 6, 7, 8, 9, 10]"
   ]
  },
  {
   "cell_type": "code",
   "execution_count": 9,
   "id": "405a3c53-3986-4486-b0aa-08a23f93e1fb",
   "metadata": {},
   "outputs": [
    {
     "data": {
      "text/plain": [
       "['1', '2', '3', '4', '5', '6', '7', '8', '9', '10']"
      ]
     },
     "execution_count": 9,
     "metadata": {},
     "output_type": "execute_result"
    }
   ],
   "source": [
    "list(map(lambda x: str(x) ,l1))"
   ]
  },
  {
   "cell_type": "markdown",
   "id": "94b38dfd-4d7d-45c1-a34f-8e0512d7fee4",
   "metadata": {},
   "source": [
    " Q4. Write a python program using reduce function to compute the product of a list containing numbers from 1 to 25"
   ]
  },
  {
   "cell_type": "code",
   "execution_count": 17,
   "id": "9cf594ce-4a85-4e1c-a385-deddd6b33111",
   "metadata": {},
   "outputs": [],
   "source": [
    "from functools import reduce"
   ]
  },
  {
   "cell_type": "code",
   "execution_count": 31,
   "id": "a5ece395-a37f-483b-a11b-9ba0ffccd454",
   "metadata": {},
   "outputs": [],
   "source": [
    "result = reduce(lambda x, y: x * y, range(1, 26))"
   ]
  },
  {
   "cell_type": "code",
   "execution_count": 32,
   "id": "177c2e98-4710-4937-8973-95eb7d244c9f",
   "metadata": {},
   "outputs": [
    {
     "name": "stdout",
     "output_type": "stream",
     "text": [
      "15511210043330985984000000\n"
     ]
    }
   ],
   "source": [
    "print(result)"
   ]
  },
  {
   "cell_type": "markdown",
   "id": "26ceaea2-9668-49be-8dbf-590654a55f1c",
   "metadata": {},
   "source": [
    "Q5. Write a python program to filter the numbers in a given list that are divisible by 2 and 3 using the\n",
    "filter function."
   ]
  },
  {
   "cell_type": "code",
   "execution_count": 39,
   "id": "874b628e-7b65-4508-8d45-1ba034ff8f94",
   "metadata": {},
   "outputs": [],
   "source": [
    "def divisible_2_and_3(x):\n",
    "    return x%2==0 and x%3==0"
   ]
  },
  {
   "cell_type": "code",
   "execution_count": 42,
   "id": "dab5598b-74dd-46a8-872c-47b90b577c5a",
   "metadata": {},
   "outputs": [],
   "source": [
    "filtered_numbers = filter(divisible_2_and_3, range(1,100))"
   ]
  },
  {
   "cell_type": "code",
   "execution_count": 46,
   "id": "bccb6115-1f37-4978-aa99-f07595729aaa",
   "metadata": {},
   "outputs": [
    {
     "data": {
      "text/plain": [
       "[6, 12, 18, 24, 30, 36, 42, 48, 54, 60, 66, 72, 78, 84, 90, 96]"
      ]
     },
     "execution_count": 46,
     "metadata": {},
     "output_type": "execute_result"
    }
   ],
   "source": [
    "list(filtered_numbers)"
   ]
  },
  {
   "cell_type": "markdown",
   "id": "ef7a469a-35d1-42aa-9b68-00d9f9461c06",
   "metadata": {},
   "source": [
    "Q6. Write a python program to find palindromes in the given list of strings using lambda and filter\n",
    "function."
   ]
  },
  {
   "cell_type": "code",
   "execution_count": 47,
   "id": "6549f840-d33e-4b1f-a33d-266792ad2933",
   "metadata": {},
   "outputs": [],
   "source": [
    "l3= ['python', 'php', 'aba', 'radar', 'level']"
   ]
  },
  {
   "cell_type": "code",
   "execution_count": 49,
   "id": "7393d580-2ab3-4297-ae07-ef59cac4b7cd",
   "metadata": {},
   "outputs": [],
   "source": [
    "palindrome = filter(lambda s: s==s[::-1],l3)"
   ]
  },
  {
   "cell_type": "code",
   "execution_count": 50,
   "id": "14bcc319-ca6b-4db2-b239-aac691968dd7",
   "metadata": {},
   "outputs": [
    {
     "data": {
      "text/plain": [
       "['php', 'aba', 'radar', 'level']"
      ]
     },
     "execution_count": 50,
     "metadata": {},
     "output_type": "execute_result"
    }
   ],
   "source": [
    "list(palindrome)"
   ]
  },
  {
   "cell_type": "code",
   "execution_count": null,
   "id": "1039f4e2-0bc6-403d-b921-e3797f002ec7",
   "metadata": {},
   "outputs": [],
   "source": []
  }
 ],
 "metadata": {
  "kernelspec": {
   "display_name": "Python 3 (ipykernel)",
   "language": "python",
   "name": "python3"
  },
  "language_info": {
   "codemirror_mode": {
    "name": "ipython",
    "version": 3
   },
   "file_extension": ".py",
   "mimetype": "text/x-python",
   "name": "python",
   "nbconvert_exporter": "python",
   "pygments_lexer": "ipython3",
   "version": "3.10.8"
  }
 },
 "nbformat": 4,
 "nbformat_minor": 5
}
