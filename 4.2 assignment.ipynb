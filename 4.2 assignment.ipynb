{
 "cells": [
  {
   "cell_type": "markdown",
   "id": "fbb97185-591c-4ae2-a3b2-75f328093df5",
   "metadata": {},
   "source": [
    "Q1. What is Abstraction in OOps? Explain with an example."
   ]
  },
  {
   "cell_type": "code",
   "execution_count": 1,
   "id": "edb0b25b-e9bf-4dc9-bac5-80e4b46b4bf0",
   "metadata": {},
   "outputs": [],
   "source": [
    "#ABSTRACTION= It is a OOPS principle of hiding complex implementation detail and exposing only essential features of an object.\n",
    "import abc\n",
    "class college:\n",
    "    @abc.abstractmethod\n",
    "    def student_detail(self):\n",
    "        pass\n",
    "    @abc.abstractmethod\n",
    "    def student_assignment(self):\n",
    "        pass\n",
    "class student_detail(college):\n",
    "    def student_detail(self):\n",
    "        return\"this is for taking student detail\"\n",
    "    def student_assignment(self):\n",
    "        return\"this is for taking student assignment\""
   ]
  },
  {
   "cell_type": "code",
   "execution_count": 2,
   "id": "8a051047-ff20-4c6c-bcc4-48be69faa946",
   "metadata": {},
   "outputs": [],
   "source": [
    "student_detail = student_detail()"
   ]
  },
  {
   "cell_type": "code",
   "execution_count": 3,
   "id": "5a99a0f0-f044-48b9-9893-671f7651454f",
   "metadata": {},
   "outputs": [
    {
     "data": {
      "text/plain": [
       "'this is for taking student assignment'"
      ]
     },
     "execution_count": 3,
     "metadata": {},
     "output_type": "execute_result"
    }
   ],
   "source": [
    "student_detail.student_assignment()"
   ]
  },
  {
   "cell_type": "markdown",
   "id": "1ce8d0b3-9615-4372-a2e0-605c3b4a42a1",
   "metadata": {},
   "source": [
    "Q2. Differentiate between Abstraction and Encapsulation. Explain with an example."
   ]
  },
  {
   "cell_type": "markdown",
   "id": "386f31a3-538d-410e-b95c-820d70e6a682",
   "metadata": {},
   "source": [
    "#Abstraction: Focuses on hiding the complexity and showing only the essential features of an object. Achieved through abstract classes and interfaces.\n",
    "#Encapsulation: Focuses on wrapping data and methods into a single unit and protecting the object's state by restricting direct access. Achieved through access modifiers and getter/setter methods."
   ]
  },
  {
   "cell_type": "code",
   "execution_count": null,
   "id": "ac84a1b9-3d47-44ee-9e91-ec5e7f21e97d",
   "metadata": {},
   "outputs": [],
   "source": [
    "#above in question one there is a example of abstraction."
   ]
  },
  {
   "cell_type": "code",
   "execution_count": 16,
   "id": "c697af9b-3c5e-4730-928a-7e02df41fe33",
   "metadata": {},
   "outputs": [],
   "source": [
    "class encapsulation:\n",
    "    def __init__(self, a,b):\n",
    "        self.a= a\n",
    "        self.b =b"
   ]
  },
  {
   "cell_type": "code",
   "execution_count": 17,
   "id": "11a65409-2950-4c1f-a522-04aa56c8acd3",
   "metadata": {},
   "outputs": [],
   "source": [
    "x = encapsulation(5,9)"
   ]
  },
  {
   "cell_type": "code",
   "execution_count": 18,
   "id": "16f91be4-8ee4-44e7-bb1e-77faf60b1fe0",
   "metadata": {},
   "outputs": [
    {
     "data": {
      "text/plain": [
       "5"
      ]
     },
     "execution_count": 18,
     "metadata": {},
     "output_type": "execute_result"
    }
   ],
   "source": [
    "x.a"
   ]
  },
  {
   "cell_type": "markdown",
   "id": "9543b426-d604-4474-aed2-6f5b908a9459",
   "metadata": {},
   "source": [
    "Q3. What is abc module in python? Why is it used?"
   ]
  },
  {
   "cell_type": "markdown",
   "id": "36b6e0ff-ba52-4b67-9034-024c3e9e2c6d",
   "metadata": {},
   "source": [
    "The abc module in Python stands for \"Abstract Base Classes.\" It provides the infrastructure for defining abstract base classes,\n",
    "which are classes that cannot be instantiated on their own and are meant to be subclassed. This module is used to define abstract \n",
    "methods, which must be implemented by any concrete (i.e., non-abstract) subclass.\n",
    "Enforce Method Implementation: Ensures that derived classes implement specific methods.\n",
    "Design Contracts: Allows you to define a clear interface for your classes, making your code more predictable and easier to understand.\n",
    "Promote Reusability: By defining common interfaces, you can write more generic and reusable code."
   ]
  },
  {
   "cell_type": "markdown",
   "id": "5f390d02-96a9-4397-9b96-af92e28be582",
   "metadata": {},
   "source": [
    "Q4. How can we achieve data abstraction?"
   ]
  },
  {
   "cell_type": "markdown",
   "id": "3855c6d4-6f8e-4f65-82be-9f68318afc7b",
   "metadata": {},
   "source": [
    "\n",
    "Data abstraction in Python can be achieved through the use of classes and encapsulation, allowing you to hide the implementation details of data and expose only the necessary interface to interact with that data."
   ]
  },
  {
   "cell_type": "markdown",
   "id": "2aecb433-0a21-4f06-b174-a997ad7b4889",
   "metadata": {},
   "source": [
    "Q5. Can we create an instance of an abstract class? Explain your answer."
   ]
  },
  {
   "cell_type": "markdown",
   "id": "ba7c1ddf-d5bb-4b06-a2b2-02aa8b137879",
   "metadata": {},
   "source": [
    "\n",
    "No, you cannot create an instance of an abstract class in Python. Abstract classes are meant to serve as blueprints for other classes. They can define abstract methods that must be implemented by any concrete subclass. The purpose of an abstract class is to provide a common interface and enforce that certain methods are implemented in derived classes."
   ]
  },
  {
   "cell_type": "code",
   "execution_count": null,
   "id": "744da640-12c7-40c2-b84c-0071e18b60aa",
   "metadata": {},
   "outputs": [],
   "source": []
  }
 ],
 "metadata": {
  "kernelspec": {
   "display_name": "Python 3 (ipykernel)",
   "language": "python",
   "name": "python3"
  },
  "language_info": {
   "codemirror_mode": {
    "name": "ipython",
    "version": 3
   },
   "file_extension": ".py",
   "mimetype": "text/x-python",
   "name": "python",
   "nbconvert_exporter": "python",
   "pygments_lexer": "ipython3",
   "version": "3.10.8"
  }
 },
 "nbformat": 4,
 "nbformat_minor": 5
}
