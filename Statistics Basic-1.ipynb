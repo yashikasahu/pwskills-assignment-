{
 "cells": [
  {
   "cell_type": "markdown",
   "metadata": {},
   "source": [
    "# Q1. What is Statistics?"
   ]
  },
  {
   "cell_type": "markdown",
   "metadata": {},
   "source": [
    "### Statistic provides the tools and methods for collecting, analyzing, interpreting and presenting data to draw meaning full conclusion and make informed decision."
   ]
  },
  {
   "cell_type": "markdown",
   "metadata": {},
   "source": [
    "# Q2. Define the different types of statistics and give an example of when each type might be used."
   ]
  },
  {
   "cell_type": "markdown",
   "metadata": {},
   "source": [
    "### Statistic are mainly divided into 2 parts :\n",
    "- Descriptive Statistic : Used to describe the main feature of the dataset like central tendency (mainly summarize the data)\n",
    "- Inferential Statistic : Used to make predictions or draw conclusion about a population based on a representative sample"
   ]
  },
  {
   "cell_type": "markdown",
   "metadata": {},
   "source": [
    "# Q3. What are the different types of data and how do they differ from each other? Provide an example of each type of data."
   ]
  },
  {
   "cell_type": "markdown",
   "metadata": {},
   "source": [
    "### Data - peices of information and facts \n",
    "###  Qualitative Data: Describe qualities , characteristics, or categories, rather than quantities. \n",
    "- Nominal : Data can be categrozied but without any inherent order or ranking.\n",
    "- Ordinal : Data that can be catgegorized and ranked , but the interval between categories are not necessarily equal. \n",
    "### Quantitative Data: Represents numerical value that can be measured and analyzed.\n",
    "- Discrete : Data that can omly take on specific , separate value , often whole number.\n",
    "- Continuous : Data that can take on any value within a range."
   ]
  },
  {
   "cell_type": "markdown",
   "metadata": {},
   "source": [
    "# Q4. Categorise the following datasets with respect to quantitative and qualitative data types:\n",
    "\n",
    "### Answers: \n",
    "(i) Grading in exam: A+, A, B+, B, C+, C, D, E (Qualitative[ordinal])\n",
    "\n",
    "(ii) Colour of mangoes: yellow, green, orange, red (Qualitaive[nominal])\n",
    "\n",
    "(iii) Height data of a class: [178.9, 179, 179.5, 176, 177.2, 178.3, 175.8,...](Quantative[Continuous])\n",
    "\n",
    "(iv) Number of mangoes exported by a farm: [500, 600, 478, 672, ...](Quantative[Discreate])"
   ]
  },
  {
   "cell_type": "markdown",
   "metadata": {},
   "source": [
    "# Q5. Explain the concept of levels of measurement and give an example of a variable for each level."
   ]
  },
  {
   "cell_type": "markdown",
   "metadata": {},
   "source": [
    "Levels of measurement, also called scales of measurement, classify data based on the type of information they provide, with four main levels: nominal, ordinal, interval, and ratio. Examples include gender (nominal), ranking in a race (ordinal), temperature (interval), and age (ratio). "
   ]
  },
  {
   "cell_type": "markdown",
   "metadata": {},
   "source": [
    "# Q6. Why is it important to understand the level of measurement when analyzing data? Provide an example to illustrate your answer."
   ]
  },
  {
   "cell_type": "markdown",
   "metadata": {},
   "source": [
    "Understnding the level of measurement is crucial in data analysis because it dictates the types of statistical analyses and interpretations that are appropriate, ensuring accurate conclusions and avoiding misinterpretations."
   ]
  },
  {
   "cell_type": "markdown",
   "metadata": {},
   "source": [
    "# Q7. How nominal data type is different from ordinal data type."
   ]
  },
  {
   "cell_type": "markdown",
   "metadata": {},
   "source": [
    "Nominal data represents categories without any inherent order or ranking, while ordinal data represents categories with a meaningful order or ranking, though the intervals between categories may not be equal. "
   ]
  },
  {
   "cell_type": "markdown",
   "metadata": {},
   "source": [
    "# Q8. Which type of plot can be used to display data in terms of range?"
   ]
  },
  {
   "cell_type": "markdown",
   "metadata": {},
   "source": [
    "A Range Plot sometime looks like a bar chart."
   ]
  },
  {
   "cell_type": "markdown",
   "metadata": {},
   "source": [
    "# Q9. Describe the difference between descriptive and inferential statistics. Give an example of each type of statistics and explain how they are used."
   ]
  },
  {
   "cell_type": "markdown",
   "metadata": {},
   "source": [
    "Descriptive and inferential statistics serve different purposes in data analysis:\n",
    "\n",
    "- Descriptive Statistics summarize and present data in a meaningful way using measures like mean, median, mode, and standard deviation.\n",
    "Example: A company calculates the average salary of its employees to understand overall compensation trends.\n",
    "\n",
    "- Inferential Statistics use sample data to make predictions or generalizations about a larger population through hypothesis testing and confidence intervals.\n",
    "Example: A researcher surveys 500 people about their voting preferences and uses the results to predict the outcome of an upcoming election."
   ]
  },
  {
   "cell_type": "markdown",
   "metadata": {},
   "source": [
    "# Q10. What are some common measures of central tendency and variability used in statistics? Explain how each measure can be used to describe a dataset."
   ]
  },
  {
   "cell_type": "markdown",
   "metadata": {},
   "source": [
    "In statistics, common measures of **central tendency** and **variability** help describe and understand datasets.  \n",
    "\n",
    "### **Measures of Central Tendency** (Describe the center of data)  \n",
    "1. **Mean (Average):** Sum of all values divided by the total number of values.  \n",
    "   - **Use:** Best for normally distributed data, e.g., calculating the average test score of a class.  \n",
    "2. **Median:** The middle value when data is ordered.  \n",
    "   - **Use:** Useful for skewed data, e.g., determining the median household income in a city.  \n",
    "3. **Mode:** The most frequently occurring value.  \n",
    "   - **Use:** Helpful for categorical data, e.g., finding the most common car color in a showroom.  \n",
    "\n",
    "### **Measures of Variability** (Describe data spread)  \n",
    "1. **Range:** Difference between the highest and lowest values.  \n",
    "   - **Use:** Shows overall spread, e.g., the temperature range in a city over a week.  \n",
    "2. **Variance:** The average squared difference from the mean.  \n",
    "   - **Use:** Indicates data dispersion, e.g., assessing consistency in students’ test scores.  \n",
    "3. **Standard Deviation:** Square root of variance; shows average deviation from the mean.  \n",
    "   - **Use:** Helps understand data consistency, e.g., comparing stock market volatility.  \n",
    "\n",
    "These measures together provide a complete picture of dataset characteristics."
   ]
  },
  {
   "cell_type": "markdown",
   "metadata": {},
   "source": []
  }
 ],
 "metadata": {
  "language_info": {
   "name": "python"
  }
 },
 "nbformat": 4,
 "nbformat_minor": 2
}
