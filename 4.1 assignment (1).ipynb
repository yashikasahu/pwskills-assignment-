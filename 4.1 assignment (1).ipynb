{
 "cells": [
  {
   "cell_type": "markdown",
   "id": "afa39505-e4fe-4535-8435-7c87de826c83",
   "metadata": {},
   "source": [
    "Q1. Explain Class and Object with respect to Object-Oriented Programming. Give a suitable example."
   ]
  },
  {
   "cell_type": "code",
   "execution_count": 25,
   "id": "901a1fa6-dd5d-4719-8ef3-c7d7006f5a89",
   "metadata": {},
   "outputs": [],
   "source": [
    "'''Class - It is a set of rule or function definred for object that it is object constructor. \n",
    "Object = it is like datatype which belong to a specific class and follow specific rules written in that class.'''\n",
    "#let's understand with an example \n",
    "class example:\n",
    "    def data():\n",
    "        pass"
   ]
  },
  {
   "cell_type": "code",
   "execution_count": 26,
   "id": "18955eae-3571-4782-bc66-5d373f43d395",
   "metadata": {},
   "outputs": [],
   "source": [
    "x = example()"
   ]
  },
  {
   "cell_type": "code",
   "execution_count": 28,
   "id": "22207b99-7bac-4a7d-b325-e044620cb88d",
   "metadata": {},
   "outputs": [
    {
     "data": {
      "text/plain": [
       "<bound method example.data of <__main__.example object at 0x724c0891b9d0>>"
      ]
     },
     "execution_count": 28,
     "metadata": {},
     "output_type": "execute_result"
    }
   ],
   "source": [
    "x.data"
   ]
  },
  {
   "cell_type": "markdown",
   "id": "b386e200-2524-4d6c-877f-28fbcfdb0762",
   "metadata": {},
   "source": [
    "Q2. Name the four pillars of OOPs."
   ]
  },
  {
   "cell_type": "code",
   "execution_count": 30,
   "id": "b8a903ce-fafd-4cee-ae5c-929f1cfb4843",
   "metadata": {},
   "outputs": [],
   "source": [
    "#There are four  pillars of OOPs.\n",
    "#ENCAPSULATION = It is the concept of building data and method that operate on thedata into a single class and protect access to some of the object compent to protect its internal state.\n",
    "#INHERITANCE= It is the OOPS principle where a new class (sub class) derives properties And behaviour (attributes and methods) from an existing class (super class).\n",
    "#POLYMORPHISM= It is a way to perform a single action and different form.\n",
    "#ABSTRACTION= It is a OOPS principle of hiding complex implementation detail and exposing only essential features of an object."
   ]
  },
  {
   "cell_type": "markdown",
   "id": "ec9a3d80-6411-4a35-8a14-898b21b87b33",
   "metadata": {},
   "source": [
    "Q3. Explain why the __init__() function is used. Give a suitable example."
   ]
  },
  {
   "cell_type": "code",
   "execution_count": 36,
   "id": "c49b95d8-6ed6-42e0-8707-6613c1283a95",
   "metadata": {},
   "outputs": [],
   "source": [
    "#The __init__() function in Python is a special method used to initialize the state of an object when it is created. It is also known as the constructor method.\n",
    "class example2:\n",
    "    def __init__(self, name , age):\n",
    "        self.name = name\n",
    "        self.age= age\n",
    "        \n",
    "    def detail(self):\n",
    "        return self.name , self.age"
   ]
  },
  {
   "cell_type": "code",
   "execution_count": 37,
   "id": "5be877d1-c2a7-472f-b2e9-6b8a6e0aea27",
   "metadata": {},
   "outputs": [],
   "source": [
    "variable = example2(\"honey\", 18)"
   ]
  },
  {
   "cell_type": "code",
   "execution_count": 39,
   "id": "fad698e2-76ca-4154-bb90-260f6cbcf0b5",
   "metadata": {},
   "outputs": [
    {
     "data": {
      "text/plain": [
       "('honey', 18)"
      ]
     },
     "execution_count": 39,
     "metadata": {},
     "output_type": "execute_result"
    }
   ],
   "source": [
    "variable.detail()"
   ]
  },
  {
   "cell_type": "markdown",
   "id": "a5148e17-4fa3-404a-bc01-5c0f0cbcee78",
   "metadata": {},
   "source": [
    "Q4. Why self is used in OOPs?"
   ]
  },
  {
   "cell_type": "markdown",
   "id": "27f2f116-a79c-4c4b-8bf7-48144584de08",
   "metadata": {},
   "source": [
    "self is used as the first parameter in instance methods to refer to the instance of the class. It allows access to the \n",
    "instance's attributes and methods from within the class. we can you our name also at place of self .it is not a key word''' "
   ]
  },
  {
   "cell_type": "markdown",
   "id": "8539eb47-901f-4b30-b08f-6fd3e1c566b8",
   "metadata": {},
   "source": [
    "Q5. What is inheritance? Give an example for each type of inheritance."
   ]
  },
  {
   "cell_type": "code",
   "execution_count": 46,
   "id": "fe2974b1-640d-4b57-af05-c5cc8cfa789f",
   "metadata": {},
   "outputs": [],
   "source": [
    "#INHERITANCE= It is the OOPS principle where a new class (sub class) derives properties And behaviour (attributes and methods) from an existing class (super class).\n",
    "class test():\n",
    "    def test_math(self):\n",
    "        print(\"THIS IS MY CLASS\")"
   ]
  },
  {
   "cell_type": "code",
   "execution_count": 47,
   "id": "8c90614a-0aba-4436-88d2-2db8bc2951e5",
   "metadata": {},
   "outputs": [],
   "source": [
    "class child(test):\n",
    "    pass"
   ]
  },
  {
   "cell_type": "code",
   "execution_count": 48,
   "id": "01e1400c-f38a-4072-9c10-7aba44e6bb9d",
   "metadata": {},
   "outputs": [],
   "source": [
    "obj = child()"
   ]
  },
  {
   "cell_type": "code",
   "execution_count": 49,
   "id": "207c168d-8cc6-46b2-919d-0c926fc83eac",
   "metadata": {},
   "outputs": [
    {
     "name": "stdout",
     "output_type": "stream",
     "text": [
      "THIS IS MY CLASS\n"
     ]
    }
   ],
   "source": [
    "obj.test_math()"
   ]
  },
  {
   "cell_type": "code",
   "execution_count": 50,
   "id": "3074db2c-cf64-4913-9d29-a1e5a0f1566c",
   "metadata": {},
   "outputs": [],
   "source": [
    "#Different type of inheritances are:\n",
    "#1. Single inheritance : In these a class inherit property of a single class. Ex- class n2(n1), In this n2 inherit only n1\n",
    "#2. Multi inheritance- : In these a class inherit proprty of many class. Ex- class n3(n1,n0),in this n3 inherit n1 and n0\n",
    "#3. Multi-level inheritance: In these a class inherit property of a class which already inherit property of another function. Ex- class n4(n3),in this n4 inherit already inherited class named n3"
   ]
  },
  {
   "cell_type": "code",
   "execution_count": null,
   "id": "55e57496-37c3-45c6-ac9e-257b0444f655",
   "metadata": {},
   "outputs": [],
   "source": []
  },
  {
   "cell_type": "code",
   "execution_count": null,
   "id": "1474f83f-8678-44d5-b223-59a974d0c86e",
   "metadata": {},
   "outputs": [],
   "source": []
  },
  {
   "cell_type": "code",
   "execution_count": null,
   "id": "ff8abc82-eb92-432e-ba87-b1028e6692ec",
   "metadata": {},
   "outputs": [],
   "source": []
  }
 ],
 "metadata": {
  "kernelspec": {
   "display_name": "Python 3 (ipykernel)",
   "language": "python",
   "name": "python3"
  },
  "language_info": {
   "codemirror_mode": {
    "name": "ipython",
    "version": 3
   },
   "file_extension": ".py",
   "mimetype": "text/x-python",
   "name": "python",
   "nbconvert_exporter": "python",
   "pygments_lexer": "ipython3",
   "version": "3.10.8"
  }
 },
 "nbformat": 4,
 "nbformat_minor": 5
}
