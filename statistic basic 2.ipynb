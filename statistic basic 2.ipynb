{
 "cells": [
  {
   "cell_type": "markdown",
   "metadata": {},
   "source": [
    "# Q1. What are the three measures of central tendency?"
   ]
  },
  {
   "cell_type": "markdown",
   "metadata": {},
   "source": [
    "### The three measures of **central tendency** are:  \n",
    "\n",
    "1. **Mean** – The average of all data points, calculated as the sum of values divided by the total number of values.  \n",
    "2. **Median** – The middle value when the data is arranged in ascending or descending order.  \n",
    "3. **Mode** – The most frequently occurring value in the dataset.  \n",
    "\n",
    "Each measure helps summarize a dataset’s center, but their usefulness depends on data distribution."
   ]
  },
  {
   "cell_type": "markdown",
   "metadata": {},
   "source": [
    "# Q2. What is the difference between the mean, median, and mode? How are they used to measure the central tendency of a dataset?"
   ]
  },
  {
   "cell_type": "markdown",
   "metadata": {},
   "source": [
    "### ### **Difference Between Mean, Median, and Mode**  \n",
    "\n",
    "- **Mean:** Average of all values; best for normal data without outliers.  \n",
    "- **Median:** Middle value in ordered data; useful for skewed data.  \n",
    "- **Mode:** Most frequent value; ideal for categorical data.  \n",
    "\n",
    "### **How They Measure Central Tendency**  \n",
    "- **Mean** shows the overall average but is affected by outliers.  \n",
    "- **Median** represents the true center, especially in skewed data.  \n",
    "- **Mode** identifies the most common occurrence in a dataset."
   ]
  },
  {
   "cell_type": "markdown",
   "metadata": {},
   "source": [
    "# Q3. Measure the three measures of central tendency for the given height data:\n",
    "[178,177,176,177,178.2,178,175,179,180,175,178.9,176.2,177,172.5,178,176.5]"
   ]
  },
  {
   "cell_type": "markdown",
   "metadata": {},
   "source": [
    "### Measures of Central Tendency for Given Height Data:\n",
    "- Mean: 177.02\n",
    "- Median: 177.0\n",
    "- Mode: 177.0"
   ]
  },
  {
   "cell_type": "markdown",
   "metadata": {},
   "source": [
    "# Q4. Find the standard deviation for the given data:\n",
    "[178,177,176,177,178.2,178,175,179,180,175,178.9,176.2,177,172.5,178,176.5]"
   ]
  },
  {
   "cell_type": "markdown",
   "metadata": {},
   "source": [
    "- Standard Deviation: 1.79"
   ]
  },
  {
   "cell_type": "markdown",
   "metadata": {},
   "source": [
    "# Q5. How are measures of dispersion such as range, variance, and standard deviation used to describe the spread of a dataset? Provide an example."
   ]
  },
  {
   "cell_type": "markdown",
   "metadata": {},
   "source": [
    "### **Measures of Dispersion and Their Use**  \n",
    "Measures of dispersion describe how spread out the data points are in a dataset.  \n",
    "\n",
    "1. **Range** – The difference between the highest and lowest values.  \n",
    "   - **Example:** In test scores (50–90), the range is **40**, showing the total spread.  \n",
    "2. **Variance** – The average squared deviation from the mean.  \n",
    "   - **Example:** A higher variance in employees' salaries indicates greater income disparity.  \n",
    "3. **Standard Deviation** – The square root of variance; measures how far values deviate from the mean.  \n",
    "   - **Example:** A stock with a high standard deviation has more price fluctuations.  \n",
    "\n",
    "These metrics help assess consistency, predictability, and variability in data."
   ]
  },
  {
   "cell_type": "markdown",
   "metadata": {},
   "source": [
    "# Q6. What is a Venn diagram? "
   ]
  },
  {
   "cell_type": "markdown",
   "metadata": {},
   "source": [
    "A **Venn diagram** is a graphical representation of sets using overlapping circles. Each circle represents a set, and their overlaps show common elements between sets.  \n",
    "\n",
    "### **Use of Venn Diagrams:**  \n",
    "- Visualizing relationships between different groups.  \n",
    "- Identifying similarities and differences between sets.  \n",
    "- Solving problems in probability, logic, and set theory.  \n",
    "\n",
    "**Example:** A Venn diagram can show the overlap between students who like math, science, or both."
   ]
  },
  {
   "cell_type": "markdown",
   "metadata": {},
   "source": [
    "# Q7. For the two given sets A = (2,3,4,5,6,7) & B = (0,2,6,8,10). Find:\n",
    "# (i) A B\n",
    "# (ii) A ⋃ B"
   ]
  },
  {
   "cell_type": "markdown",
   "metadata": {},
   "source": [
    "### Answers : (i) A ∩ B (Intersection): {2, 6}\n",
    "\n",
    "### (ii) A ∪ B (Union): {0, 2, 3, 4, 5, 6, 7, 8, 10}"
   ]
  },
  {
   "cell_type": "markdown",
   "metadata": {},
   "source": [
    "# Q8. What do you understand about skewness in data?"
   ]
  },
  {
   "cell_type": "markdown",
   "metadata": {},
   "source": [
    "### **Skewness in Data**  \n",
    "Skewness measures the asymmetry of a dataset’s distribution. It indicates whether data is **symmetrically distributed** or **leans** toward one side.  \n",
    "\n",
    "#### **Types of Skewness:**  \n",
    "1. **Positive Skew (Right-Skewed):**  \n",
    "   - Tail extends to the right.  \n",
    "   - Mean > Median > Mode.  \n",
    "   - Example: Income distribution (few very high incomes).  \n",
    "\n",
    "2. **Negative Skew (Left-Skewed):**  \n",
    "   - Tail extends to the left.  \n",
    "   - Mean < Median < Mode.  \n",
    "   - Example: Age at retirement (most people retire around the same age, with some retiring very early).  \n",
    "\n",
    "3. **Zero Skew (Symmetric Distribution):**  \n",
    "   - Data is evenly distributed.  \n",
    "   - Mean ≈ Median ≈ Mode.  \n",
    "   - Example: Heights of people in a population.  \n",
    "\n",
    "Skewness helps in understanding data distribution and choosing appropriate statistical methods."
   ]
  },
  {
   "cell_type": "markdown",
   "metadata": {},
   "source": [
    "# Q9. If a data is right skewed then what will be the position of median with respect to mean?"
   ]
  },
  {
   "cell_type": "markdown",
   "metadata": {},
   "source": [
    "In a **right-skewed (positively skewed) distribution**, the **mean** is greater than the **median** because the long tail on the right side pulls the mean higher.  \n",
    "\n",
    "### **Position Relationship:**  \n",
    "**Mean > Median > Mode**  \n",
    "\n",
    "So, in a right-skewed dataset, the **median will be less than the mean** (i.e., positioned to the left of the mean)."
   ]
  },
  {
   "cell_type": "markdown",
   "metadata": {},
   "source": [
    "### Q10. Explain the difference between covariance and correlation. How are these measures used in statistical analysis?"
   ]
  },
  {
   "cell_type": "markdown",
   "metadata": {},
   "source": [
    "**Use in Statistical Analysis:**\n",
    "Covariance helps determine whether two variables move together, but it lacks a standardized scale.\n",
    "\n",
    "Correlation is more useful for comparing relationships across different datasets, as it standardizes covariance.\n",
    "\n",
    "Example:\n",
    "\n",
    "**Covariance**: Analyzing how stock prices of two companies move together.\n",
    "\n",
    "**Correlation**: Understanding the strength of the relationship between study hours and exam scores."
   ]
  },
  {
   "cell_type": "markdown",
   "metadata": {},
   "source": [
    "# Q11. What is the formula for calculating the sample mean? Provide an example calculation for a dataset."
   ]
  },
  {
   "cell_type": "markdown",
   "metadata": {},
   "source": [
    "### **Formula for Sample Mean**  \n",
    "The **sample mean (x̄)** is calculated as:  \n",
    "\n",
    "\\[\n",
    "\\bar{x} = \\frac{\\sum x_i}{n}\n",
    "\\]\n",
    "\n",
    "Where:  \n",
    "- \\( x_i \\) = Each data point  \n",
    "- \\( n \\) = Number of data points  \n",
    "\n",
    "### **Example Calculation**  \n",
    "Given dataset: **[10, 20, 30, 40, 50]**  \n",
    "\n",
    "\\[\n",
    "\\bar{x} = \\frac{10 + 20 + 30 + 40 + 50}{5} = \\frac{150}{5} = 30\n",
    "\\]\n",
    "\n",
    "Thus, the **sample mean = 30**."
   ]
  },
  {
   "cell_type": "markdown",
   "metadata": {},
   "source": [
    "# Q12. For a normal distribution data what is the relationship between its measure of central tendency?"
   ]
  },
  {
   "cell_type": "markdown",
   "metadata": {},
   "source": [
    "For a **normal distribution**, the three measures of central tendency—**mean, median, and mode**—are **equal and located at the center** of the distribution.  \n",
    "\n",
    "### **Relationship:**  \n",
    "\\[\n",
    "\\text{Mean} = \\text{Median} = \\text{Mode}\n",
    "\\]\n",
    "\n",
    "### **Key Characteristics:**  \n",
    "- The distribution is **symmetrical** around the mean.  \n",
    "- There is no skewness (left or right).  \n",
    "- The highest point of the bell curve corresponds to the **mode**.  \n",
    "\n",
    "**Example:** Heights of people in a large population often follow a normal distribution, where the **average height, median height, and most common height are approximately the same**."
   ]
  },
  {
   "cell_type": "markdown",
   "metadata": {},
   "source": [
    "# Q13. How is covariance different from correlation?"
   ]
  },
  {
   "cell_type": "markdown",
   "metadata": {},
   "source": [
    "Usage in Analysis:\n",
    "Covariance helps understand whether two variables are related but does not measure strength.\n",
    "\n",
    "Correlation is used to quantify and compare relationships between different datasets.\n",
    "\n",
    "Example:\n",
    "\n",
    "Covariance: Stock prices of two companies moving together.\n",
    "\n",
    "Correlation: The strength of the relationship between exercise time and weight loss."
   ]
  },
  {
   "cell_type": "markdown",
   "metadata": {},
   "source": [
    "# Q14. How do outliers affect measures of central tendency and dispersion? Provide an example."
   ]
  },
  {
   "cell_type": "markdown",
   "metadata": {},
   "source": [
    "### **Effect of Outliers on Measures of Central Tendency and Dispersion**  \n",
    "\n",
    "1. **Central Tendency:**  \n",
    "   - **Mean**: **Highly affected** by outliers as extreme values pull it in their direction.  \n",
    "   - **Median**: **Less affected** since it depends on position, not values.  \n",
    "   - **Mode**: **Not affected** because it focuses on the most frequent value.  \n",
    "\n",
    "2. **Dispersion (Spread):**  \n",
    "   - **Range**: **Highly affected** as it depends on extreme values.  \n",
    "   - **Variance & Standard Deviation**: **Increase significantly** due to the squared differences from the mean.  \n",
    "\n",
    "### **Example:**  \n",
    "Consider the dataset: **[10, 12, 14, 15, 11, 13, 100]**  \n",
    "- **Mean** (without 100) ≈ 12.5, but with **100**, it jumps to **25.0**.  \n",
    "- **Median** remains **13** (unchanged).  \n",
    "- **Range** increases drastically from **5 (15-10)** to **90 (100-10)**.  \n",
    "\n",
    "### **Conclusion:**  \n",
    "Outliers **distort** the mean and measures of dispersion but have **less impact on the median and mode**."
   ]
  },
  {
   "cell_type": "markdown",
   "metadata": {},
   "source": []
  }
 ],
 "metadata": {
  "language_info": {
   "name": "python"
  }
 },
 "nbformat": 4,
 "nbformat_minor": 2
}
