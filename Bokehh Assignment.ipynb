{
 "cells": [
  {
   "cell_type": "markdown",
   "metadata": {},
   "source": [
    "# Q1. How can you create a Bokeh plot using Python code?"
   ]
  },
  {
   "cell_type": "code",
   "execution_count": 1,
   "metadata": {},
   "outputs": [],
   "source": [
    "from bokeh.plotting import figure, show, output_file\n",
    "\n",
    "x =[2,3,4,5,6]\n",
    "y =[2,3,4,5,6]\n",
    "output_file('line.html')\n",
    "p = figure(title= 'line plot', x_axis_label='X-Axis', y_axis_label='Y-Axis')\n",
    "p.scatter(x,y,fill_color = 'black' , legend_label= 'blue points')\n",
    "show(p)"
   ]
  },
  {
   "cell_type": "markdown",
   "metadata": {},
   "source": [
    "# Q2. What are glyphs in Bokeh, and how can you add them to a Bokeh plot? Explain with an example."
   ]
  },
  {
   "cell_type": "code",
   "execution_count": 2,
   "metadata": {},
   "outputs": [
    {
     "name": "stderr",
     "output_type": "stream",
     "text": [
      "BokehDeprecationWarning: 'circle() method with size value' was deprecated in Bokeh 3.4.0 and will be removed, use 'scatter(size=...) instead' instead.\n",
      "BokehDeprecationWarning: 'square() method' was deprecated in Bokeh 3.4.0 and will be removed, use \"scatter(marker='square', ...) instead\" instead.\n",
      "BokehDeprecationWarning: 'triangle() method' was deprecated in Bokeh 3.4.0 and will be removed, use \"scatter(marker='triangle', ...) instead\" instead.\n"
     ]
    }
   ],
   "source": [
    "# Glyphs in Bokeh are the visual shapes or markers used to represent data on a plot. They include shapes like circles, squares, lines, triangles, bars, patches, and more. Glyphs are added to a plot using renderer methods such as circle(), square(), line(), scatter(), and others.\n",
    "from bokeh.plotting import figure, show, output_file\n",
    "\n",
    "x = [1, 2, 3, 4, 5]\n",
    "y = [6, 7, 2, 4, 5]\n",
    "\n",
    "output_file(\"glyphs_example.html\")\n",
    "\n",
    "p = figure(title=\"Different Glyphs in Bokeh\", x_axis_label=\"X-axis\", y_axis_label=\"Y-axis\")\n",
    "\n",
    "p.circle(x, y, size=10, color=\"blue\", legend_label=\"Circle Glyph\")  # Circle glyph\n",
    "p.square(x, [val+1 for val in y], size=10, color=\"green\", legend_label=\"Square Glyph\")  # Square glyph\n",
    "p.line(x, y, line_width=2, color=\"red\", legend_label=\"Line Glyph\")  # Line glyph\n",
    "p.triangle(x, [val-1 for val in y], size=10, color=\"orange\", legend_label=\"Triangle Glyph\")  # Triangle glyph\n",
    "\n",
    "p.legend.title = \"Glyph Types\"\n",
    "p.legend.location = \"top_left\"\n",
    "\n",
    "show(p)\n"
   ]
  },
  {
   "cell_type": "markdown",
   "metadata": {},
   "source": [
    "# Q3. How can you customize the appearance of a Bokeh plot, including the axes, title, and legend?"
   ]
  },
  {
   "cell_type": "code",
   "execution_count": 3,
   "metadata": {},
   "outputs": [
    {
     "name": "stderr",
     "output_type": "stream",
     "text": [
      "BokehDeprecationWarning: 'circle() method with size value' was deprecated in Bokeh 3.4.0 and will be removed, use 'scatter(size=...) instead' instead.\n"
     ]
    }
   ],
   "source": [
    "# Import necessary libraries\n",
    "from bokeh.plotting import figure, show, output_file\n",
    "\n",
    "# Prepare Data\n",
    "x = [1, 2, 3, 4, 5]\n",
    "y = [6, 7, 2, 4, 5]\n",
    "\n",
    "# Output to an HTML file\n",
    "output_file(\"customized_plot.html\")\n",
    "\n",
    "# Create a Figure\n",
    "p = figure(title=\"Customized Bokeh Plot\", x_axis_label=\"X-axis\", y_axis_label=\"Y-axis\")\n",
    "\n",
    "# Add Glyphs\n",
    "p.line(x, y, legend_label=\"Line\", line_width=2, color=\"blue\")\n",
    "p.circle(x, y, legend_label=\"Points\", size=10, color=\"red\")\n",
    "\n",
    "# --- Customize Title ---\n",
    "p.title.text = \"Customized Bokeh Plot\"\n",
    "p.title.text_color = \"darkblue\"\n",
    "p.title.text_font = \"times\"\n",
    "p.title.text_font_size = \"18pt\"\n",
    "p.title.align = \"center\"\n",
    "\n",
    "# --- Customize Axes ---\n",
    "p.xaxis.axis_label = \"Custom X-axis\"\n",
    "p.yaxis.axis_label = \"Custom Y-axis\"\n",
    "p.xaxis.axis_label_text_font_size = \"14pt\"\n",
    "p.yaxis.axis_label_text_font_size = \"14pt\"\n",
    "p.xaxis.axis_label_text_color = \"green\"\n",
    "p.yaxis.axis_label_text_color = \"green\"\n",
    "p.xaxis.major_tick_line_color = \"orange\"\n",
    "p.yaxis.major_tick_line_color = \"orange\"\n",
    "p.xgrid.grid_line_color = \"gray\"\n",
    "p.ygrid.grid_line_color = \"gray\"\n",
    "\n",
    "# --- Customize Legend ---\n",
    "p.legend.title = \"Legend Title\"\n",
    "p.legend.title_text_font_size = \"12pt\"\n",
    "p.legend.label_text_font_size = \"10pt\"\n",
    "p.legend.background_fill_color = \"lightgray\"\n",
    "p.legend.border_line_color = \"black\"\n",
    "p.legend.location = \"top_left\"\n",
    "\n",
    "# Show the Plot\n",
    "show(p)\n"
   ]
  },
  {
   "cell_type": "markdown",
   "metadata": {},
   "source": [
    "# Q4. What is a Bokeh server, and how can you use it to create interactive plots that can be updated in real time?"
   ]
  },
  {
   "cell_type": "markdown",
   "metadata": {},
   "source": [
    "Define a Python Script: Create a Python script with your plot and callback functions.\n",
    "Run the Server: Use bokeh serve to launch the server.\n",
    "Access in Browser: Open the app at http://localhost:5006/app_name."
   ]
  },
  {
   "cell_type": "markdown",
   "metadata": {},
   "source": [
    "# Q5. How can you embed a Bokeh plot into a web page or dashboard using Flask or Django?"
   ]
  },
  {
   "cell_type": "markdown",
   "metadata": {},
   "source": [
    "Bokeh plots can be embedded into web frameworks like Flask and Django using the bokeh.embed module, which allows seamless integration of interactive plots into web applications.\n",
    "\n"
   ]
  },
  {
   "cell_type": "markdown",
   "metadata": {},
   "source": []
  }
 ],
 "metadata": {
  "kernelspec": {
   "display_name": "Python 3",
   "language": "python",
   "name": "python3"
  },
  "language_info": {
   "codemirror_mode": {
    "name": "ipython",
    "version": 3
   },
   "file_extension": ".py",
   "mimetype": "text/x-python",
   "name": "python",
   "nbconvert_exporter": "python",
   "pygments_lexer": "ipython3",
   "version": "3.11.9"
  }
 },
 "nbformat": 4,
 "nbformat_minor": 2
}
