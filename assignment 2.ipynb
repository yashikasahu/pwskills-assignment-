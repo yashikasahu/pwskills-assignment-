{
 "cells": [
  {
   "cell_type": "code",
   "execution_count": 63,
   "id": "9b27ba08-59a0-4c25-88d0-860cce327e96",
   "metadata": {},
   "outputs": [
    {
     "data": {
      "text/plain": [
       "' How do you comment code in Python? What are the different types of comments?'"
      ]
     },
     "execution_count": 63,
     "metadata": {},
     "output_type": "execute_result"
    }
   ],
   "source": [
    "''' How do you comment code in Python? What are the different types of comments?'''\n",
    "# Q1. How do you comment code in Python? What are the different types of comments?"
   ]
  },
  {
   "cell_type": "code",
   "execution_count": 64,
   "id": "0df131a7-9030-44d2-9e36-e9e69e73ea60",
   "metadata": {},
   "outputs": [],
   "source": [
    "# Q2. What are variables in Python? How do you declare and assign values to variables?"
   ]
  },
  {
   "cell_type": "code",
   "execution_count": 36,
   "id": "8635bc83-17d5-468b-90dd-8eb0edee9292",
   "metadata": {},
   "outputs": [
    {
     "name": "stdout",
     "output_type": "stream",
     "text": [
      "yashika\n",
      "24.8\n",
      "88\n",
      "True\n"
     ]
    }
   ],
   "source": [
    "var1 = \"yashika\"\n",
    "var2 = 24.8\n",
    "var3 = 56+32\n",
    "var4 = True\n",
    "print(var1)\n",
    "print(var2)\n",
    "print(var3)\n",
    "print(var4)"
   ]
  },
  {
   "cell_type": "code",
   "execution_count": 37,
   "id": "d41736bb-0023-4e64-bad1-d7a800b609a2",
   "metadata": {},
   "outputs": [],
   "source": [
    "# Q3. How do you convert one data type to another in Python?"
   ]
  },
  {
   "cell_type": "code",
   "execution_count": 65,
   "id": "935d5082-5109-4703-a961-4c2e1af480e3",
   "metadata": {},
   "outputs": [],
   "source": [
    "# converting interger to float\n",
    "p = 25\n",
    "w = 7\n",
    "pw = p/w"
   ]
  },
  {
   "cell_type": "code",
   "execution_count": 66,
   "id": "e1db605f-c997-465d-84e2-b7eb9a9e0ad9",
   "metadata": {},
   "outputs": [
    {
     "data": {
      "text/plain": [
       "3.5714285714285716"
      ]
     },
     "execution_count": 66,
     "metadata": {},
     "output_type": "execute_result"
    }
   ],
   "source": [
    "pw"
   ]
  },
  {
   "cell_type": "code",
   "execution_count": 67,
   "id": "4d7a22c9-011a-43e5-bf36-0048ae6ef00f",
   "metadata": {},
   "outputs": [
    {
     "data": {
      "text/plain": [
       "float"
      ]
     },
     "execution_count": 67,
     "metadata": {},
     "output_type": "execute_result"
    }
   ],
   "source": [
    "type(pw)"
   ]
  },
  {
   "cell_type": "code",
   "execution_count": 39,
   "id": "2c000236-fb3b-40db-91e1-12297abe7450",
   "metadata": {},
   "outputs": [],
   "source": [
    "#   Q4. How do you write and execute a Python script from the command line?"
   ]
  },
  {
   "cell_type": "code",
   "execution_count": 40,
   "id": "a3cc0952-9507-496c-b86c-d790011e9ec5",
   "metadata": {},
   "outputs": [
    {
     "data": {
      "text/plain": [
       "\"open a command line and type the word python followed by the path to your script file like this: python first_script.py Hello World! Then you hit the ENTER button from the keyboard, and that's it.\""
      ]
     },
     "execution_count": 40,
     "metadata": {},
     "output_type": "execute_result"
    }
   ],
   "source": [
    " \"open a command line and type the word python followed by the path to your script file like this: python first_script.py Hello World! Then you hit the ENTER button from the keyboard, and that's it.\""
   ]
  },
  {
   "cell_type": "code",
   "execution_count": 41,
   "id": "ccec9ae3-bb2a-4da9-b82e-1f4ad37f5c58",
   "metadata": {},
   "outputs": [],
   "source": [
    "# Q5. Given a list my_list = [1, 2, 3, 4, 5], write the code to slice the list and obtain the sub-list [2, 3]."
   ]
  },
  {
   "cell_type": "code",
   "execution_count": 42,
   "id": "abbf98f1-bb31-4897-b54a-9c9ee68302eb",
   "metadata": {},
   "outputs": [],
   "source": [
    "my_list = [1, 2, 3, 4, 5]"
   ]
  },
  {
   "cell_type": "code",
   "execution_count": 43,
   "id": "d434f626-84a5-4e02-9921-3653a15116ae",
   "metadata": {},
   "outputs": [
    {
     "data": {
      "text/plain": [
       "[2, 3]"
      ]
     },
     "execution_count": 43,
     "metadata": {},
     "output_type": "execute_result"
    }
   ],
   "source": [
    "my_list[1:3]"
   ]
  },
  {
   "cell_type": "code",
   "execution_count": 44,
   "id": "c08d7189-b66e-4bd0-91ea-12b0cb19e8ba",
   "metadata": {},
   "outputs": [],
   "source": [
    "# Q6. What is a complex number in mathematics, and how is it represented in Python?"
   ]
  },
  {
   "cell_type": "code",
   "execution_count": 45,
   "id": "e6bf50ad-4b78-49bf-8b34-4d145d920e39",
   "metadata": {},
   "outputs": [],
   "source": [
    "complex_number= 5 + 2j"
   ]
  },
  {
   "cell_type": "code",
   "execution_count": 46,
   "id": "2aec7790-0345-4ccf-8423-26455aecc71d",
   "metadata": {},
   "outputs": [
    {
     "data": {
      "text/plain": [
       "complex"
      ]
     },
     "execution_count": 46,
     "metadata": {},
     "output_type": "execute_result"
    }
   ],
   "source": [
    "type(complex_number)"
   ]
  },
  {
   "cell_type": "code",
   "execution_count": 58,
   "id": "f7e04ad6-7356-4d82-bfa5-d0077cbe1fca",
   "metadata": {},
   "outputs": [],
   "source": [
    "# Q7. What is the correct way to declare a variable named age and assign the value 25 to it?"
   ]
  },
  {
   "cell_type": "code",
   "execution_count": 68,
   "id": "97b2d016-1f43-4cbc-ae96-8062cbf74767",
   "metadata": {},
   "outputs": [
    {
     "data": {
      "text/plain": [
       "25"
      ]
     },
     "execution_count": 68,
     "metadata": {},
     "output_type": "execute_result"
    }
   ],
   "source": [
    "age= int (25)\n",
    "age"
   ]
  },
  {
   "cell_type": "code",
   "execution_count": 49,
   "id": "c6e18a71-5a87-4cd0-89fd-290c7f743eaf",
   "metadata": {},
   "outputs": [],
   "source": [
    "# Q8. Declare a variable named price and assign the value 9.99 to it. What data type does this variable belong to?"
   ]
  },
  {
   "cell_type": "code",
   "execution_count": 69,
   "id": "86099573-fcbe-431f-8344-102c9334d904",
   "metadata": {},
   "outputs": [
    {
     "data": {
      "text/plain": [
       "9.99"
      ]
     },
     "execution_count": 69,
     "metadata": {},
     "output_type": "execute_result"
    }
   ],
   "source": [
    "price = 9.99\n",
    "price"
   ]
  },
  {
   "cell_type": "code",
   "execution_count": 51,
   "id": "d961c5c5-fd5d-41ae-bf39-00b375c09ef2",
   "metadata": {},
   "outputs": [],
   "source": [
    "# Q9. Create a variable named name and assign your full name to it as a string. How would you print the value of this variable?"
   ]
  },
  {
   "cell_type": "code",
   "execution_count": 52,
   "id": "62b8c496-b98b-4b59-924e-3f98902cc816",
   "metadata": {},
   "outputs": [
    {
     "name": "stdout",
     "output_type": "stream",
     "text": [
      "yashika sahu\n"
     ]
    }
   ],
   "source": [
    "name=\"yashika sahu\"\n",
    "print(name)"
   ]
  },
  {
   "cell_type": "code",
   "execution_count": 53,
   "id": "de2da948-2ab6-4d29-9c3a-8c32225f83a7",
   "metadata": {},
   "outputs": [],
   "source": [
    "# Q10. Given the string \"Hello, World!\", extract the substring \"World\"."
   ]
  },
  {
   "cell_type": "code",
   "execution_count": 54,
   "id": "418556fe-3d75-4c55-8edd-07407d0ad4e9",
   "metadata": {},
   "outputs": [
    {
     "data": {
      "text/plain": [
       "'world'"
      ]
     },
     "execution_count": 54,
     "metadata": {},
     "output_type": "execute_result"
    }
   ],
   "source": [
    "h= \"hello, world !\"\n",
    "hello=h[7:12]\n",
    "hello"
   ]
  },
  {
   "cell_type": "code",
   "execution_count": 55,
   "id": "9361e2c7-fc0d-4e23-854b-9ce2fd9d0d49",
   "metadata": {},
   "outputs": [],
   "source": [
    "# Q11. Create a variable named \"is_student\" and assign it a boolean value indicating whether you are currently a student or not."
   ]
  },
  {
   "cell_type": "code",
   "execution_count": 56,
   "id": "9acb84da-14eb-437e-bd71-cc084d5a6d74",
   "metadata": {},
   "outputs": [
    {
     "name": "stdout",
     "output_type": "stream",
     "text": [
      "True\n"
     ]
    }
   ],
   "source": [
    "is_student=True\n",
    "print(is_student)"
   ]
  },
  {
   "cell_type": "code",
   "execution_count": null,
   "id": "6305f474-844f-4843-83dc-a9785774b834",
   "metadata": {},
   "outputs": [],
   "source": []
  }
 ],
 "metadata": {
  "kernelspec": {
   "display_name": "Python 3 (ipykernel)",
   "language": "python",
   "name": "python3"
  },
  "language_info": {
   "codemirror_mode": {
    "name": "ipython",
    "version": 3
   },
   "file_extension": ".py",
   "mimetype": "text/x-python",
   "name": "python",
   "nbconvert_exporter": "python",
   "pygments_lexer": "ipython3",
   "version": "3.10.8"
  }
 },
 "nbformat": 4,
 "nbformat_minor": 5
}
