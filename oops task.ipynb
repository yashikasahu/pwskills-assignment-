{
 "cells": [
  {
   "cell_type": "markdown",
   "id": "d2c31668-62dc-4a97-a7b7-c86db3ed599c",
   "metadata": {},
   "source": [
    "Q1, Create a vehicle class with an init method having instance variables as name_of_vehicle, max_speed\n",
    "and average_of_vehicle."
   ]
  },
  {
   "cell_type": "code",
   "execution_count": 1,
   "id": "a7bfd75c-2912-44ed-8d0b-15d02b0cbd97",
   "metadata": {},
   "outputs": [],
   "source": [
    "class vehicle:\n",
    "    def __init__(self , name_of_vehicle, max_speed ,average_of_vehicle):\n",
    "        self.name_of_vehicle =name_of_vehicle\n",
    "        self.max_speed = max_speed\n",
    "        self.average_of_vehicle= average_of_vehicle\n",
    "        \n",
    "    def vehicle_detail(self):\n",
    "        return self.name_of_vehicle, self.max_speed ,self.average_of_vehicle"
   ]
  },
  {
   "cell_type": "code",
   "execution_count": 2,
   "id": "455d9867-fa51-4298-98fb-fbb33672408d",
   "metadata": {},
   "outputs": [],
   "source": [
    "yashika = vehicle(\"thar\", 300, 5)"
   ]
  },
  {
   "cell_type": "code",
   "execution_count": 3,
   "id": "c4816484-8573-4fa5-a2fe-5e7d92011317",
   "metadata": {},
   "outputs": [
    {
     "data": {
      "text/plain": [
       "('thar', 300, 5)"
      ]
     },
     "execution_count": 3,
     "metadata": {},
     "output_type": "execute_result"
    }
   ],
   "source": [
    "yashika.vehicle_detail()"
   ]
  },
  {
   "cell_type": "markdown",
   "id": "e92fa890-bf09-4be6-9f43-e180832fdc2d",
   "metadata": {},
   "source": [
    "Q2. Create a child class car from the vehicle class created in Que 1, which will inherit the vehicle class.\n",
    "Create a method named seating_capacity which takes capacity as an argument and returns the name of\n",
    "the vehicle and its seating capacity."
   ]
  },
  {
   "cell_type": "code",
   "execution_count": 10,
   "id": "f656e804-6ca3-4585-aa2f-0d6d74e78e30",
   "metadata": {},
   "outputs": [],
   "source": [
    "class Car(vehicle):\n",
    "    def seating_capacity(self, capacity):\n",
    "        return self.name_of_vehicle, capacity"
   ]
  },
  {
   "cell_type": "code",
   "execution_count": 19,
   "id": "5b91d58d-1aec-4bd3-8fbb-7957be76813b",
   "metadata": {},
   "outputs": [],
   "source": [
    "car = Car(\"Toyota\", 180, 15)"
   ]
  },
  {
   "cell_type": "code",
   "execution_count": 20,
   "id": "b9b6c958-d5b8-48b9-a5b2-1109f0df4616",
   "metadata": {},
   "outputs": [
    {
     "data": {
      "text/plain": [
       "('Toyota', 180, 15)"
      ]
     },
     "execution_count": 20,
     "metadata": {},
     "output_type": "execute_result"
    }
   ],
   "source": [
    "car.vehicle_detail()"
   ]
  },
  {
   "cell_type": "code",
   "execution_count": 21,
   "id": "810fa7d5-912b-4acc-96ae-66621d074058",
   "metadata": {},
   "outputs": [
    {
     "data": {
      "text/plain": [
       "('Toyota', 5)"
      ]
     },
     "execution_count": 21,
     "metadata": {},
     "output_type": "execute_result"
    }
   ],
   "source": [
    "car.seating_capacity(5)"
   ]
  },
  {
   "cell_type": "markdown",
   "id": "b83fc592-94b3-47a3-8261-a6a54de5872d",
   "metadata": {},
   "source": [
    "Q3. What is multiple inheritance? Write a python code to demonstrate multiple inheritance."
   ]
  },
  {
   "cell_type": "code",
   "execution_count": 31,
   "id": "5ca14911-9d37-48b6-937e-52677ef061e3",
   "metadata": {},
   "outputs": [],
   "source": [
    "# Multiple inheritance is a feature in object-oriented programming where a class can inherit attributes and methods from more than one parent class. This allows a child class to combine and utilize the functionalities of multiple parent classes."
   ]
  },
  {
   "cell_type": "code",
   "execution_count": 22,
   "id": "cea5503b-43b0-489a-8e16-ee41093e9db7",
   "metadata": {},
   "outputs": [],
   "source": [
    "class first_parent:\n",
    "    def my_class1(self):\n",
    "        return \"my first class\""
   ]
  },
  {
   "cell_type": "code",
   "execution_count": 25,
   "id": "a6415bca-f402-49e8-b5e5-8829e54879b7",
   "metadata": {},
   "outputs": [],
   "source": [
    "class second_parent:\n",
    "    def my_class2(self):\n",
    "        return \"my second class\""
   ]
  },
  {
   "cell_type": "code",
   "execution_count": 27,
   "id": "457440e8-753c-4621-843f-e3904f5a8a9a",
   "metadata": {},
   "outputs": [],
   "source": [
    "class child_class(first_parent, second_parent ):\n",
    "    pass"
   ]
  },
  {
   "cell_type": "code",
   "execution_count": 28,
   "id": "beb7a055-2591-4db2-8f85-f090f82f6c95",
   "metadata": {},
   "outputs": [],
   "source": [
    "object = child_class()"
   ]
  },
  {
   "cell_type": "code",
   "execution_count": 29,
   "id": "96186b6d-b653-4830-ab92-df3c353cbced",
   "metadata": {},
   "outputs": [
    {
     "data": {
      "text/plain": [
       "'my first class'"
      ]
     },
     "execution_count": 29,
     "metadata": {},
     "output_type": "execute_result"
    }
   ],
   "source": [
    "object.my_class1()"
   ]
  },
  {
   "cell_type": "code",
   "execution_count": 30,
   "id": "0dabac59-6264-413b-9551-208261681469",
   "metadata": {},
   "outputs": [
    {
     "data": {
      "text/plain": [
       "'my second class'"
      ]
     },
     "execution_count": 30,
     "metadata": {},
     "output_type": "execute_result"
    }
   ],
   "source": [
    "object.my_class2()"
   ]
  },
  {
   "cell_type": "markdown",
   "id": "2d4f81cc-54e7-4817-bed1-eca6c9cb4cf2",
   "metadata": {},
   "source": [
    "Q4. What are getter and setter in python? Create a class and create a getter and a setter method in this\n",
    "class."
   ]
  },
  {
   "cell_type": "code",
   "execution_count": 13,
   "id": "49914802-7f93-4d21-a1fc-2a472b8312ef",
   "metadata": {},
   "outputs": [],
   "source": [
    "class pwskills :\n",
    "    \n",
    "    def __init__(self  , course_price , course_name):\n",
    "        \n",
    "        self.__course_price = course_price\n",
    "        self.course_name = course_name\n",
    "    \n",
    "    @property\n",
    "    def course_price_access(self):\n",
    "        return self.__course_price\n",
    "            \n",
    "        @course_price_access.setter\n",
    "        def course_price_set(self , price):\n",
    "            if price <= 300:\n",
    "                pass\n",
    "            else:\n",
    "                 self.__course_price = price \n",
    "                    \n",
    "    @course_price_access.deleter\n",
    "    def delete_course_price(self):\n",
    "        del self.__course_price"
   ]
  },
  {
   "cell_type": "code",
   "execution_count": 14,
   "id": "5ba47ccb-b0aa-48ed-8905-5fd2a8a0294e",
   "metadata": {},
   "outputs": [],
   "source": [
    "pw = pwskills( 300, \"data science\")"
   ]
  },
  {
   "cell_type": "code",
   "execution_count": null,
   "id": "afe62645-baa8-4597-855c-3b99522113d6",
   "metadata": {},
   "outputs": [],
   "source": []
  },
  {
   "cell_type": "markdown",
   "id": "a18e90fd-130d-4a8c-8352-b736ede00d87",
   "metadata": {},
   "source": [
    "Q5.What is method overriding in python? Write a python code to demonstrate method overriding."
   ]
  },
  {
   "cell_type": "code",
   "execution_count": 6,
   "id": "49d6ffef-336e-4c82-8c58-993e0ad454c2",
   "metadata": {},
   "outputs": [],
   "source": [
    "animal = Animal()"
   ]
  },
  {
   "cell_type": "code",
   "execution_count": 5,
   "id": "a3afedbf-4581-4c84-94a2-b5211515bbd9",
   "metadata": {},
   "outputs": [
    {
     "name": "stdout",
     "output_type": "stream",
     "text": [
      "Animal makes a sound\n"
     ]
    }
   ],
   "source": [
    "animal.make_sound()  "
   ]
  },
  {
   "cell_type": "code",
   "execution_count": 7,
   "id": "4c47b3f7-8c46-4132-a2a7-ca44b599d4bd",
   "metadata": {},
   "outputs": [],
   "source": [
    "dog = Dog()"
   ]
  },
  {
   "cell_type": "code",
   "execution_count": 8,
   "id": "5491bb31-7330-4a4d-83de-995014c05d3f",
   "metadata": {},
   "outputs": [
    {
     "name": "stdout",
     "output_type": "stream",
     "text": [
      "Dog barks\n"
     ]
    }
   ],
   "source": [
    "dog.make_sound()"
   ]
  },
  {
   "cell_type": "code",
   "execution_count": 9,
   "id": "3eeeaa15-0ced-430e-8d6b-9821578d55e9",
   "metadata": {},
   "outputs": [],
   "source": [
    "cat = Cat()"
   ]
  },
  {
   "cell_type": "code",
   "execution_count": 10,
   "id": "567452c8-f521-4727-a871-94f404b1a85e",
   "metadata": {},
   "outputs": [
    {
     "name": "stdout",
     "output_type": "stream",
     "text": [
      "Cat meows\n"
     ]
    }
   ],
   "source": [
    "cat.make_sound()"
   ]
  },
  {
   "cell_type": "code",
   "execution_count": null,
   "id": "3681cc50-ccfb-474f-8757-e699ed344e4e",
   "metadata": {},
   "outputs": [],
   "source": []
  }
 ],
 "metadata": {
  "kernelspec": {
   "display_name": "Python 3 (ipykernel)",
   "language": "python",
   "name": "python3"
  },
  "language_info": {
   "codemirror_mode": {
    "name": "ipython",
    "version": 3
   },
   "file_extension": ".py",
   "mimetype": "text/x-python",
   "name": "python",
   "nbconvert_exporter": "python",
   "pygments_lexer": "ipython3",
   "version": "3.10.8"
  }
 },
 "nbformat": 4,
 "nbformat_minor": 5
}
