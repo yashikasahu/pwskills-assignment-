{
 "cells": [
  {
   "cell_type": "markdown",
   "metadata": {},
   "source": [
    "# Q1. What is an API? Give an example, where an API is used in real life."
   ]
  },
  {
   "cell_type": "markdown",
   "metadata": {},
   "source": [
    "### **What is an API?**  \n",
    "An **API (Application Programming Interface)** is a set of rules and protocols that allows different software applications to communicate with each other. It enables seamless data exchange between systems.  \n",
    "\n",
    "### **Real-Life Example:**  \n",
    "- **Weather Apps:** Mobile apps like Google Weather use APIs to fetch real-time weather data from services like OpenWeather or Weather.com.  \n",
    "- **Payment Gateways:** E-commerce websites use APIs (e.g., PayPal API) to process secure online payments.  \n",
    "\n",
    "APIs simplify software integration and enable smooth user experiences across different platforms."
   ]
  },
  {
   "cell_type": "markdown",
   "metadata": {},
   "source": [
    "# Q2. Give advantages and disadvantages of using API."
   ]
  },
  {
   "cell_type": "markdown",
   "metadata": {},
   "source": [
    "### **Advantages of Using APIs:**  \n",
    "1. **Automation:** APIs allow seamless communication between systems without manual intervention.  \n",
    "2. **Efficiency:** Developers can reuse existing APIs, reducing coding time and effort.  \n",
    "3. **Scalability:** APIs enable easy integration of new features and third-party services.  \n",
    "4. **Security:** APIs provide controlled access to data, ensuring security and privacy.  \n",
    "5. **Interoperability:** Different applications and platforms can communicate smoothly.  \n",
    "\n",
    "### **Disadvantages of Using APIs:**  \n",
    "1. **Complexity:** Implementing and maintaining APIs requires technical expertise.  \n",
    "2. **Security Risks:** Improper API usage can expose sensitive data to vulnerabilities.  \n",
    "3. **Dependency:** Changes in an external API can break functionality in dependent applications.  \n",
    "4. **Rate Limits:** Many APIs impose usage limits, restricting the number of requests per user.  \n",
    "5. **Cost:** Some APIs require paid subscriptions for premium features or high usage limits.  \n",
    "\n",
    "APIs are essential for modern applications but require proper management to maximize their benefits."
   ]
  },
  {
   "cell_type": "markdown",
   "metadata": {},
   "source": [
    "### **What is a Web API?**  \n",
    "A **Web API** is a type of API that allows applications to communicate over the internet using protocols like HTTP. It enables web-based interactions between different software systems.  \n",
    "\n",
    "### **Difference Between API and Web API**  \n",
    "\n",
    "| Feature  | API | Web API |\n",
    "|----------|----------------|----------------|\n",
    "| **Definition** | A set of rules enabling software communication. | A specific type of API that works over the web using HTTP/HTTPS. |\n",
    "| **Communication** | Can be local (within a system) or remote. | Works over the internet or a network. |\n",
    "| **Usage** | Used in desktop, mobile, and web applications. | Primarily used in web-based applications and services. |\n",
    "| **Examples** | File system API, Database API. | REST API, SOAP API (e.g., Google Maps API, Twitter API). |\n",
    "\n",
    "### **Conclusion:**  \n",
    "All **Web APIs are APIs**, but **not all APIs are Web APIs** since APIs can operate within a local system without internet access."
   ]
  },
  {
   "cell_type": "markdown",
   "metadata": {},
   "source": [
    "### **Q4. Explain REST and SOAP Architecture. Mention shortcomings of SOAP.**  \n",
    "\n",
    "### **REST (Representational State Transfer) Architecture:**  \n",
    "- A lightweight, web-based API architecture that uses **HTTP methods** (GET, POST, PUT, DELETE) for communication.  \n",
    "- **Data Format:** Primarily **JSON** (also XML, HTML, etc.).  \n",
    "- **Stateless:** Each request is independent, and the server does not store client session data.  \n",
    "- **Example:** RESTful APIs like **Google Maps API** or **Twitter API**.  \n",
    "\n",
    "### **SOAP (Simple Object Access Protocol) Architecture:**  \n",
    "- A **protocol-based** API architecture that follows strict rules for communication.  \n",
    "- **Data Format:** Uses **XML** for message formatting.  \n",
    "- **More Secure:** Supports built-in security features like **WS-Security**.  \n",
    "- **Example:** Used in **banking and financial services** for secure transactions.  \n",
    "\n",
    "### **Shortcomings of SOAP:**  \n",
    "1. **Complexity:** More difficult to implement and maintain compared to REST.  \n",
    "2. **Performance Issues:** Heavier due to XML messaging, leading to slower processing.  \n",
    "3. **Limited Flexibility:** Strict message structure reduces adaptability.  \n",
    "4. **Higher Bandwidth Usage:** XML format increases data size, consuming more resources.  \n",
    "5. **Less Scalability:** Not as efficient as REST for handling large-scale applications.  \n",
    "\n",
    "### **Conclusion:**  \n",
    "- **REST** is **faster, lightweight, and widely used** for web applications.  \n",
    "- **SOAP** is **more secure** but **complex and slower**, making it suitable for high-security environments like banking."
   ]
  },
  {
   "cell_type": "markdown",
   "metadata": {},
   "source": [
    "### **Q5. Difference Between REST and SOAP**  \n",
    "\n",
    "| Feature  | REST (Representational State Transfer) | SOAP (Simple Object Access Protocol) |\n",
    "|----------|-----------------------------------|-----------------------------------|\n",
    "| **Architecture** | Architectural style | Protocol-based |\n",
    "| **Communication** | Uses **HTTP methods** (GET, POST, PUT, DELETE) | Uses **XML-based messaging** |\n",
    "| **Data Format** | Supports **JSON, XML, HTML, plain text** | Only supports **XML** |\n",
    "| **Performance** | Faster and lightweight | Slower due to XML overhead |\n",
    "| **Security** | Relies on HTTPS, OAuth, and token-based security | Built-in security (WS-Security, SSL) |\n",
    "| **Scalability** | Highly scalable and flexible | Less scalable due to strict standards |\n",
    "| **Statefulness** | **Stateless** (Each request is independent) | **Stateful or Stateless** (Can store session data) |\n",
    "| **Use Case** | Best for web services, mobile apps, microservices | Suitable for enterprise-level and secure transactions (e.g., banking) |\n",
    "| **Example APIs** | Google Maps API, Twitter API | Payment gateways, financial services |\n",
    "\n",
    "### **Conclusion:**  \n",
    "- **REST is lightweight, flexible, and widely used** for web-based applications.  \n",
    "- **SOAP is more secure but complex** and is preferred in high-security environments like banking and healthcare."
   ]
  },
  {
   "cell_type": "markdown",
   "metadata": {},
   "source": []
  }
 ],
 "metadata": {
  "language_info": {
   "name": "python"
  }
 },
 "nbformat": 4,
 "nbformat_minor": 2
}
